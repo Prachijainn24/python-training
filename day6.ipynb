{
  "nbformat": 4,
  "nbformat_minor": 0,
  "metadata": {
    "colab": {
      "provenance": [],
      "authorship_tag": "ABX9TyNgq/Xq7RXDf3ZtJFRdtr7i",
      "include_colab_link": true
    },
    "kernelspec": {
      "name": "python3",
      "display_name": "Python 3"
    },
    "language_info": {
      "name": "python"
    }
  },
  "cells": [
    {
      "cell_type": "markdown",
      "metadata": {
        "id": "view-in-github",
        "colab_type": "text"
      },
      "source": [
        "<a href=\"https://colab.research.google.com/github/Prachijainn24/python-training/blob/main/day6.ipynb\" target=\"_parent\"><img src=\"https://colab.research.google.com/assets/colab-badge.svg\" alt=\"Open In Colab\"/></a>"
      ]
    },
    {
      "cell_type": "code",
      "execution_count": null,
      "metadata": {
        "colab": {
          "base_uri": "https://localhost:8080/"
        },
        "id": "72TM4AQ-K9V4",
        "outputId": "5ddc8bab-bb4f-4ee5-8b92-629d02fa7685"
      },
      "outputs": [
        {
          "output_type": "stream",
          "name": "stdout",
          "text": [
            "x:10,y:20,z:30\n",
            "x:20,y:10,z:30\n",
            "x:10,y:20,z:30\n"
          ]
        }
      ],
      "source": [
        "#parameter passing\n",
        "def func(x,y,z=100):\n",
        "  print(f\"x:{x},y:{y},z:{z}\")\n",
        "\n",
        "func(10,20,30)  #position argument\n",
        "func(20,10,30)\n",
        "\n",
        "func(y=20,x=10,z=30) #key-value"
      ]
    },
    {
      "cell_type": "code",
      "source": [
        "#return keyword = used to take back value from function and later on used by program\n",
        "def func(x):\n",
        "  print(x+50)\n",
        "  return 100\n",
        "out=func(10)\n",
        "print(\"out\",out)"
      ],
      "metadata": {
        "colab": {
          "base_uri": "https://localhost:8080/"
        },
        "id": "58vBzYpZLVmU",
        "outputId": "f03122b5-9a87-4530-b02c-72e67dc2bbd3"
      },
      "execution_count": null,
      "outputs": [
        {
          "output_type": "stream",
          "name": "stdout",
          "text": [
            "60\n",
            "out 100\n"
          ]
        }
      ]
    },
    {
      "cell_type": "code",
      "source": [
        "#lambda functions\n",
        "#1 line function\n",
        "#annonymous function  (don't  have a name)\n",
        "def addno(num):\n",
        "  return num+5\n",
        "  addno(10)\n",
        "  addno(7)\n"
      ],
      "metadata": {
        "id": "yYVEFVuPOQ_A"
      },
      "execution_count": null,
      "outputs": []
    },
    {
      "cell_type": "code",
      "source": [
        "y= lambda num: num+5\n",
        "y(10)"
      ],
      "metadata": {
        "colab": {
          "base_uri": "https://localhost:8080/"
        },
        "id": "5HVOp8dsPxLQ",
        "outputId": "778e5ad0-15ec-41ab-bb03-0fdc78487c2b"
      },
      "execution_count": null,
      "outputs": [
        {
          "output_type": "execute_result",
          "data": {
            "text/plain": [
              "15"
            ]
          },
          "metadata": {},
          "execution_count": 15
        }
      ]
    },
    {
      "cell_type": "code",
      "source": [
        "#map = element->return  applied to each and every element\n",
        "#takes function only\n",
        "# 1 what function=string  , no integer  only applies to logic\n",
        "#ek time pr ek hi element is passed\n",
        "#fast processing\n",
        "#[10,20,30,40,15,18]"
      ],
      "metadata": {
        "id": "Z5hYEeyEP196"
      },
      "execution_count": null,
      "outputs": []
    },
    {
      "cell_type": "code",
      "source": [
        "len(\"hii\")"
      ],
      "metadata": {
        "colab": {
          "base_uri": "https://localhost:8080/"
        },
        "id": "l1KM6e4VRoGO",
        "outputId": "5980254d-08da-44ca-d4ff-671713dd6710"
      },
      "execution_count": null,
      "outputs": [
        {
          "output_type": "execute_result",
          "data": {
            "text/plain": [
              "3"
            ]
          },
          "metadata": {},
          "execution_count": 16
        }
      ]
    },
    {
      "cell_type": "code",
      "source": [
        "list( map(len,[\"hii\",\"user\"] ) )"
      ],
      "metadata": {
        "colab": {
          "base_uri": "https://localhost:8080/"
        },
        "id": "MMVaYSbHRqS1",
        "outputId": "3c7a65cf-166e-4d58-cb76-5551c1b27d66"
      },
      "execution_count": null,
      "outputs": [
        {
          "output_type": "execute_result",
          "data": {
            "text/plain": [
              "[3, 4]"
            ]
          },
          "metadata": {},
          "execution_count": 17
        }
      ]
    },
    {
      "cell_type": "code",
      "source": [
        "tuple( map(len,[\"hii\",\"user\"] ) )"
      ],
      "metadata": {
        "colab": {
          "base_uri": "https://localhost:8080/"
        },
        "id": "stsDwy50SUt_",
        "outputId": "18a8dbd4-9ad9-4221-dcfb-1ac479908077"
      },
      "execution_count": null,
      "outputs": [
        {
          "output_type": "execute_result",
          "data": {
            "text/plain": [
              "(3, 4)"
            ]
          },
          "metadata": {},
          "execution_count": 18
        }
      ]
    },
    {
      "cell_type": "code",
      "source": [
        "list( map( lambda x:x*x,[5,10,12,15] ) )"
      ],
      "metadata": {
        "colab": {
          "base_uri": "https://localhost:8080/"
        },
        "id": "l80bPV9PSeYx",
        "outputId": "346f2e5a-50d0-4023-eb12-cfc765b07ab3"
      },
      "execution_count": null,
      "outputs": [
        {
          "output_type": "execute_result",
          "data": {
            "text/plain": [
              "[25, 100, 144, 225]"
            ]
          },
          "metadata": {},
          "execution_count": 21
        }
      ]
    },
    {
      "cell_type": "code",
      "source": [
        "#filter keyword\n",
        "list( filter( lambda x:x%2==0,[5,10,12,15] ) )"
      ],
      "metadata": {
        "colab": {
          "base_uri": "https://localhost:8080/"
        },
        "id": "sA2fqmwASsOd",
        "outputId": "5361a110-6a01-407e-d136-5e962890f579"
      },
      "execution_count": null,
      "outputs": [
        {
          "output_type": "execute_result",
          "data": {
            "text/plain": [
              "[10, 12]"
            ]
          },
          "metadata": {},
          "execution_count": 22
        }
      ]
    },
    {
      "cell_type": "code",
      "source": [
        "list( filter( lambda x:x%2!=0,[5,10,12,15] ) )"
      ],
      "metadata": {
        "colab": {
          "base_uri": "https://localhost:8080/"
        },
        "id": "agQmqxnoTjo0",
        "outputId": "c655003c-517b-41d8-b834-d355228c25a2"
      },
      "execution_count": null,
      "outputs": [
        {
          "output_type": "execute_result",
          "data": {
            "text/plain": [
              "[5, 15]"
            ]
          },
          "metadata": {},
          "execution_count": 23
        }
      ]
    },
    {
      "cell_type": "code",
      "source": [],
      "metadata": {
        "id": "KIW-UlP9TrL4"
      },
      "execution_count": null,
      "outputs": []
    }
  ]
}