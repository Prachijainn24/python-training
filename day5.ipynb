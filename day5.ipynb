{
  "nbformat": 4,
  "nbformat_minor": 0,
  "metadata": {
    "colab": {
      "provenance": [],
      "authorship_tag": "ABX9TyO6o88oa4mLRECXfUiPLX7x",
      "include_colab_link": true
    },
    "kernelspec": {
      "name": "python3",
      "display_name": "Python 3"
    },
    "language_info": {
      "name": "python"
    }
  },
  "cells": [
    {
      "cell_type": "markdown",
      "metadata": {
        "id": "view-in-github",
        "colab_type": "text"
      },
      "source": [
        "<a href=\"https://colab.research.google.com/github/Prachijainn24/python-training/blob/main/day5.ipynb\" target=\"_parent\"><img src=\"https://colab.research.google.com/assets/colab-badge.svg\" alt=\"Open In Colab\"/></a>"
      ]
    },
    {
      "cell_type": "code",
      "execution_count": null,
      "metadata": {
        "colab": {
          "base_uri": "https://localhost:8080/"
        },
        "id": "fKfgbv70Zjg-",
        "outputId": "bb5edca4-642c-474c-9e7b-747c9ad07e31"
      },
      "outputs": [
        {
          "output_type": "stream",
          "name": "stdout",
          "text": [
            "1234\n",
            "-123\n",
            "--12\n",
            "---1\n"
          ]
        }
      ],
      "source": [
        "num = 4\n",
        "\n",
        "for i in range(num):\n",
        "    print('-'*i, end='')  # print i dashes\n",
        "    for j in range(1, num - i + 1):  # print numbers from 1 to (4 - i)\n",
        "        print(j, end='')\n",
        "    print()  # new line after each row"
      ]
    },
    {
      "cell_type": "code",
      "source": [
        "#Dictionary\n",
        "\"\"\"\n",
        "\n",
        "#dictionary => datatype\n",
        "#Value stores in key-value pair\n",
        "#key => unique identifier\n",
        "#value : unique / duplicate\n",
        "#It is mutuable\n",
        "#no index position\n",
        "\"\"\""
      ],
      "metadata": {
        "id": "HmZwk4FKiEX4"
      },
      "execution_count": null,
      "outputs": []
    },
    {
      "cell_type": "code",
      "source": [
        "mydict = {10:\"prachi\",20:\"Kinsh\"}\n",
        "print(mydict[10])\n"
      ],
      "metadata": {
        "id": "0oVsaK0MfzoM",
        "colab": {
          "base_uri": "https://localhost:8080/"
        },
        "outputId": "4fd5f009-1b1f-4342-fd2b-bcf7dbf9ea87"
      },
      "execution_count": 2,
      "outputs": [
        {
          "output_type": "stream",
          "name": "stdout",
          "text": [
            "prachi\n"
          ]
        }
      ]
    },
    {
      "cell_type": "code",
      "source": [
        "mydict = {10:\"Diya\",20:\"Kinsh\"}\n",
        "mydict[10] = \"Rishab\"  #update value\n",
        "print(mydict)\n",
        "mydict[\"amount\"] = 1000   #inset the key-value\n",
        "print(mydict)\n",
        "mydict.pop(20)    #delete using pop function and key name\n",
        "print(mydict)"
      ],
      "metadata": {
        "colab": {
          "base_uri": "https://localhost:8080/"
        },
        "id": "PrftCWrj9O_o",
        "outputId": "a9ef7ff8-e67c-4a42-cf71-4ae2eac9bed4"
      },
      "execution_count": 3,
      "outputs": [
        {
          "output_type": "stream",
          "name": "stdout",
          "text": [
            "{10: 'Rishab', 20: 'Kinsh'}\n",
            "{10: 'Rishab', 20: 'Kinsh', 'amount': 1000}\n",
            "{10: 'Rishab', 'amount': 1000}\n"
          ]
        }
      ]
    },
    {
      "cell_type": "code",
      "source": [
        "print( help(mydict))"
      ],
      "metadata": {
        "colab": {
          "base_uri": "https://localhost:8080/"
        },
        "id": "ClzueiRc9Zt5",
        "outputId": "6b291e00-6e39-4e31-e71a-c9eb3421c836"
      },
      "execution_count": 4,
      "outputs": [
        {
          "output_type": "stream",
          "name": "stdout",
          "text": [
            "Help on dict object:\n",
            "\n",
            "class dict(object)\n",
            " |  dict() -> new empty dictionary\n",
            " |  dict(mapping) -> new dictionary initialized from a mapping object's\n",
            " |      (key, value) pairs\n",
            " |  dict(iterable) -> new dictionary initialized as if via:\n",
            " |      d = {}\n",
            " |      for k, v in iterable:\n",
            " |          d[k] = v\n",
            " |  dict(**kwargs) -> new dictionary initialized with the name=value pairs\n",
            " |      in the keyword argument list.  For example:  dict(one=1, two=2)\n",
            " |  \n",
            " |  Built-in subclasses:\n",
            " |      StgDict\n",
            " |  \n",
            " |  Methods defined here:\n",
            " |  \n",
            " |  __contains__(self, key, /)\n",
            " |      True if the dictionary has the specified key, else False.\n",
            " |  \n",
            " |  __delitem__(self, key, /)\n",
            " |      Delete self[key].\n",
            " |  \n",
            " |  __eq__(self, value, /)\n",
            " |      Return self==value.\n",
            " |  \n",
            " |  __ge__(self, value, /)\n",
            " |      Return self>=value.\n",
            " |  \n",
            " |  __getattribute__(self, name, /)\n",
            " |      Return getattr(self, name).\n",
            " |  \n",
            " |  __getitem__(...)\n",
            " |      x.__getitem__(y) <==> x[y]\n",
            " |  \n",
            " |  __gt__(self, value, /)\n",
            " |      Return self>value.\n",
            " |  \n",
            " |  __init__(self, /, *args, **kwargs)\n",
            " |      Initialize self.  See help(type(self)) for accurate signature.\n",
            " |  \n",
            " |  __ior__(self, value, /)\n",
            " |      Return self|=value.\n",
            " |  \n",
            " |  __iter__(self, /)\n",
            " |      Implement iter(self).\n",
            " |  \n",
            " |  __le__(self, value, /)\n",
            " |      Return self<=value.\n",
            " |  \n",
            " |  __len__(self, /)\n",
            " |      Return len(self).\n",
            " |  \n",
            " |  __lt__(self, value, /)\n",
            " |      Return self<value.\n",
            " |  \n",
            " |  __ne__(self, value, /)\n",
            " |      Return self!=value.\n",
            " |  \n",
            " |  __or__(self, value, /)\n",
            " |      Return self|value.\n",
            " |  \n",
            " |  __repr__(self, /)\n",
            " |      Return repr(self).\n",
            " |  \n",
            " |  __reversed__(self, /)\n",
            " |      Return a reverse iterator over the dict keys.\n",
            " |  \n",
            " |  __ror__(self, value, /)\n",
            " |      Return value|self.\n",
            " |  \n",
            " |  __setitem__(self, key, value, /)\n",
            " |      Set self[key] to value.\n",
            " |  \n",
            " |  __sizeof__(...)\n",
            " |      D.__sizeof__() -> size of D in memory, in bytes\n",
            " |  \n",
            " |  clear(...)\n",
            " |      D.clear() -> None.  Remove all items from D.\n",
            " |  \n",
            " |  copy(...)\n",
            " |      D.copy() -> a shallow copy of D\n",
            " |  \n",
            " |  get(self, key, default=None, /)\n",
            " |      Return the value for key if key is in the dictionary, else default.\n",
            " |  \n",
            " |  items(...)\n",
            " |      D.items() -> a set-like object providing a view on D's items\n",
            " |  \n",
            " |  keys(...)\n",
            " |      D.keys() -> a set-like object providing a view on D's keys\n",
            " |  \n",
            " |  pop(...)\n",
            " |      D.pop(k[,d]) -> v, remove specified key and return the corresponding value.\n",
            " |      \n",
            " |      If the key is not found, return the default if given; otherwise,\n",
            " |      raise a KeyError.\n",
            " |  \n",
            " |  popitem(self, /)\n",
            " |      Remove and return a (key, value) pair as a 2-tuple.\n",
            " |      \n",
            " |      Pairs are returned in LIFO (last-in, first-out) order.\n",
            " |      Raises KeyError if the dict is empty.\n",
            " |  \n",
            " |  setdefault(self, key, default=None, /)\n",
            " |      Insert key with a value of default if key is not in the dictionary.\n",
            " |      \n",
            " |      Return the value for key if key is in the dictionary, else default.\n",
            " |  \n",
            " |  update(...)\n",
            " |      D.update([E, ]**F) -> None.  Update D from dict/iterable E and F.\n",
            " |      If E is present and has a .keys() method, then does:  for k in E: D[k] = E[k]\n",
            " |      If E is present and lacks a .keys() method, then does:  for k, v in E: D[k] = v\n",
            " |      In either case, this is followed by: for k in F:  D[k] = F[k]\n",
            " |  \n",
            " |  values(...)\n",
            " |      D.values() -> an object providing a view on D's values\n",
            " |  \n",
            " |  ----------------------------------------------------------------------\n",
            " |  Class methods defined here:\n",
            " |  \n",
            " |  __class_getitem__(...)\n",
            " |      See PEP 585\n",
            " |  \n",
            " |  fromkeys(iterable, value=None, /)\n",
            " |      Create a new dictionary with keys from iterable and values set to value.\n",
            " |  \n",
            " |  ----------------------------------------------------------------------\n",
            " |  Static methods defined here:\n",
            " |  \n",
            " |  __new__(*args, **kwargs)\n",
            " |      Create and return a new object.  See help(type) for accurate signature.\n",
            " |  \n",
            " |  ----------------------------------------------------------------------\n",
            " |  Data and other attributes defined here:\n",
            " |  \n",
            " |  __hash__ = None\n",
            "\n",
            "None\n"
          ]
        }
      ]
    },
    {
      "cell_type": "code",
      "source": [
        "mydict.keys()    #to access only keys"
      ],
      "metadata": {
        "colab": {
          "base_uri": "https://localhost:8080/"
        },
        "id": "g0VSl15R9ejI",
        "outputId": "4c8f6e8f-d0a2-4fd3-83a0-7bb25f416c0c"
      },
      "execution_count": 5,
      "outputs": [
        {
          "output_type": "execute_result",
          "data": {
            "text/plain": [
              "dict_keys([10, 'amount'])"
            ]
          },
          "metadata": {},
          "execution_count": 5
        }
      ]
    },
    {
      "cell_type": "code",
      "source": [
        "mydict.values()    #to access only values"
      ],
      "metadata": {
        "colab": {
          "base_uri": "https://localhost:8080/"
        },
        "id": "Tzo6dfdg9kwO",
        "outputId": "12a0fc1c-2cce-4144-a93d-4738d4b64fe7"
      },
      "execution_count": 6,
      "outputs": [
        {
          "output_type": "execute_result",
          "data": {
            "text/plain": [
              "dict_values(['Rishab', 1000])"
            ]
          },
          "metadata": {},
          "execution_count": 6
        }
      ]
    },
    {
      "cell_type": "code",
      "source": [
        "data=\"hello\"\n",
        "count = 0\n",
        "for char in data:\n",
        "  count+= 1\n",
        "mydict = {\"total\":count}\n",
        "print(mydict)"
      ],
      "metadata": {
        "colab": {
          "base_uri": "https://localhost:8080/"
        },
        "id": "xsBYhRcH9twb",
        "outputId": "85fcab5f-9095-483f-ec06-69d94dd94cf9"
      },
      "execution_count": 7,
      "outputs": [
        {
          "output_type": "stream",
          "name": "stdout",
          "text": [
            "{'total': 5}\n"
          ]
        }
      ]
    },
    {
      "cell_type": "code",
      "source": [
        "data = \"user\"\n",
        "mydictionary = {}\n",
        "for char in data:\n",
        "  mydictionary[char] = 1\n",
        "print(mydictionary)"
      ],
      "metadata": {
        "colab": {
          "base_uri": "https://localhost:8080/"
        },
        "id": "8RQZCkZR9ycY",
        "outputId": "55d7ca1c-5ae1-4017-f0d0-79169086bff0"
      },
      "execution_count": 8,
      "outputs": [
        {
          "output_type": "stream",
          "name": "stdout",
          "text": [
            "{'u': 1, 's': 1, 'e': 1, 'r': 1}\n"
          ]
        }
      ]
    },
    {
      "cell_type": "code",
      "source": [
        "data = \"hey isha\"\n",
        "mydict = {}\n",
        "for char in data:\n",
        "  if char in \"aeiou\":\n",
        "    mydict[char] = 1\n",
        "print(mydict)"
      ],
      "metadata": {
        "colab": {
          "base_uri": "https://localhost:8080/"
        },
        "id": "Xu2tSwdj92b_",
        "outputId": "b7f4eb23-2b33-4606-9a44-e295337f52bb"
      },
      "execution_count": 9,
      "outputs": [
        {
          "output_type": "stream",
          "name": "stdout",
          "text": [
            "{'e': 1, 'i': 1, 'a': 1}\n"
          ]
        }
      ]
    },
    {
      "cell_type": "code",
      "source": [
        "mydict={\"amount\":15}\n",
        "mydict[\"amount\"] = mydict[\"amount\"]+200\n",
        "print(mydict)"
      ],
      "metadata": {
        "colab": {
          "base_uri": "https://localhost:8080/"
        },
        "id": "8GuQtW-R97IZ",
        "outputId": "f67b1154-aad3-4196-f3cf-a9e7084d6f5e"
      },
      "execution_count": 10,
      "outputs": [
        {
          "output_type": "stream",
          "name": "stdout",
          "text": [
            "{'amount': 215}\n"
          ]
        }
      ]
    },
    {
      "cell_type": "code",
      "source": [
        "data = \"hey ishaeea\"\n",
        "mydict = {}\n",
        "for char in data:\n",
        "  if char in \"aeiou\":\n",
        "    if char not in mydict:\n",
        "      mydict[char] = 1\n",
        "    else:\n",
        "      mydict[char] = mydict[char] + 1\n",
        "print(mydict)"
      ],
      "metadata": {
        "colab": {
          "base_uri": "https://localhost:8080/"
        },
        "id": "CGi3iP0z9_p2",
        "outputId": "d52c9ac0-cb28-487b-c19b-38ed2a589ab2"
      },
      "execution_count": 11,
      "outputs": [
        {
          "output_type": "stream",
          "name": "stdout",
          "text": [
            "{'e': 3, 'i': 1, 'a': 2}\n"
          ]
        }
      ]
    },
    {
      "cell_type": "code",
      "source": [
        "\"\"\"#list Comprehension => way to write list in simple shorter manner\"\"\"\n",
        "\n",
        "newlist = []\n",
        "for i in [10,20,30,40]:\n",
        "  newlist.append(i+5)\n",
        "print(newlist)"
      ],
      "metadata": {
        "colab": {
          "base_uri": "https://localhost:8080/"
        },
        "id": "vqA8wbLX-HwE",
        "outputId": "85670689-efb1-44db-ab82-9ffb4ec12d00"
      },
      "execution_count": 12,
      "outputs": [
        {
          "output_type": "stream",
          "name": "stdout",
          "text": [
            "[15, 25, 35, 45]\n"
          ]
        }
      ]
    },
    {
      "cell_type": "code",
      "source": [
        "[ i+5 for i in [10,20,30,40]]"
      ],
      "metadata": {
        "colab": {
          "base_uri": "https://localhost:8080/"
        },
        "id": "piB4_Nbs-Q2N",
        "outputId": "68ef07fa-f803-41d0-f634-2e48c18085b5"
      },
      "execution_count": 13,
      "outputs": [
        {
          "output_type": "execute_result",
          "data": {
            "text/plain": [
              "[15, 25, 35, 45]"
            ]
          },
          "metadata": {},
          "execution_count": 13
        }
      ]
    },
    {
      "cell_type": "code",
      "source": [
        "\n",
        "\"\"\"#Dictionary comprehension => way to write dictionary in simple shorter manner\"\"\"\n",
        "\n",
        "{ char:1 for char in \"hey\"}"
      ],
      "metadata": {
        "colab": {
          "base_uri": "https://localhost:8080/"
        },
        "id": "SNrJ7veX-WHT",
        "outputId": "04f893ed-0da1-4bd8-ce11-3f3cf30ab372"
      },
      "execution_count": 14,
      "outputs": [
        {
          "output_type": "execute_result",
          "data": {
            "text/plain": [
              "{'h': 1, 'e': 1, 'y': 1}"
            ]
          },
          "metadata": {},
          "execution_count": 14
        }
      ]
    },
    {
      "cell_type": "code",
      "source": [
        "\"\"\"#Functions\"\"\"\n",
        "\n",
        "#function => set of statement => to perform tasks\n",
        "#It help in code reusability\n",
        "\n",
        "a = 100    #global variable\n",
        "def test():\n",
        "  z = 19   #local variable\n",
        "  print(\"hello\",z,a)\n",
        "\n",
        "test()\n",
        "test()\n",
        "print(a)"
      ],
      "metadata": {
        "colab": {
          "base_uri": "https://localhost:8080/"
        },
        "id": "Z3CJ6Qe4-fKx",
        "outputId": "b580fd67-10f2-470b-90f9-fce0dcd6e5b2"
      },
      "execution_count": 15,
      "outputs": [
        {
          "output_type": "stream",
          "name": "stdout",
          "text": [
            "hello 19 100\n",
            "hello 19 100\n",
            "100\n"
          ]
        }
      ]
    },
    {
      "cell_type": "code",
      "source": [
        "def msg( username ):  #parameters\n",
        "  print(\"hey user\", username)\n",
        "msg(\"rashika\")   #arguement\n",
        "msg(\"Kinshuk\")\n"
      ],
      "metadata": {
        "colab": {
          "base_uri": "https://localhost:8080/"
        },
        "id": "y97j-TdN-lzU",
        "outputId": "33b60202-ecde-4771-9bdb-21da74f09558"
      },
      "execution_count": 16,
      "outputs": [
        {
          "output_type": "stream",
          "name": "stdout",
          "text": [
            "hey user rashika\n",
            "hey user Kinshuk\n"
          ]
        }
      ]
    },
    {
      "cell_type": "code",
      "source": [
        "def totalsum(num):\n",
        "  total = 0\n",
        "  for i in range(1,num+1):\n",
        "    total = total + i\n",
        "  print(f\"Sum of {num} is =>\",total)"
      ],
      "metadata": {
        "id": "5idmml6T-ugM"
      },
      "execution_count": 19,
      "outputs": []
    },
    {
      "cell_type": "code",
      "source": [
        "totalsum(10)\n",
        "totalsum(5)"
      ],
      "metadata": {
        "colab": {
          "base_uri": "https://localhost:8080/"
        },
        "id": "Gz-IlczV-3n0",
        "outputId": "9aaff6bb-349a-4ce0-9006-136385d67873"
      },
      "execution_count": 20,
      "outputs": [
        {
          "output_type": "stream",
          "name": "stdout",
          "text": [
            "Sum of 10 is => 55\n",
            "Sum of 5 is => 15\n"
          ]
        }
      ]
    },
    {
      "cell_type": "code",
      "source": [
        "# num = 4\n",
        "def Pattern(num):\n",
        "  for i in range(1,num+1):\n",
        "    for j in range(1,i):\n",
        "      print(\"-\",end=\" \")\n",
        "    for j in range(1,(num +2)-i):\n",
        "      print(j,end=\" \")\n",
        "    print(\"\")"
      ],
      "metadata": {
        "id": "DRClqGDw-7S0"
      },
      "execution_count": 21,
      "outputs": []
    },
    {
      "cell_type": "code",
      "source": [
        "Pattern(4)"
      ],
      "metadata": {
        "colab": {
          "base_uri": "https://localhost:8080/"
        },
        "id": "UqoimBJa_Am7",
        "outputId": "631b0051-f357-479a-9893-668ddaccbf39"
      },
      "execution_count": 22,
      "outputs": [
        {
          "output_type": "stream",
          "name": "stdout",
          "text": [
            "1 2 3 4 \n",
            "- 1 2 3 \n",
            "- - 1 2 \n",
            "- - - 1 \n"
          ]
        }
      ]
    },
    {
      "cell_type": "code",
      "source": [
        "\n",
        "Pattern(5)"
      ],
      "metadata": {
        "colab": {
          "base_uri": "https://localhost:8080/"
        },
        "id": "LT4NeclY_DuF",
        "outputId": "2ed258a6-1dc3-4e62-c6fe-c8db10ca4894"
      },
      "execution_count": 23,
      "outputs": [
        {
          "output_type": "stream",
          "name": "stdout",
          "text": [
            "1 2 3 4 5 \n",
            "- 1 2 3 4 \n",
            "- - 1 2 3 \n",
            "- - - 1 2 \n",
            "- - - - 1 \n"
          ]
        }
      ]
    },
    {
      "cell_type": "code",
      "source": [
        "#Write a function to get LCM of 2 numbers\n",
        "#Write a function to check whether a number is a armstrong or not\n",
        "#Write a function to check whether a number is a palindrome or not NOTE: don't typecast number into string\n",
        "\n",
        "#LCM\n",
        "def Lcm(a,b):\n",
        "  if(a>b):\n",
        "    grater = a\n",
        "  else:\n",
        "    greater = b\n",
        "  while(True):\n",
        "    if(greater%a==0 and greater%b==0):\n",
        "      print(\"Greater is the LCM =>\",greater)\n",
        "      break\n",
        "    else:\n",
        "      greater+=1\n",
        "\n",
        "Lcm(2,8)\n",
        "\n",
        "Lcm(2,5)\n",
        "\n",
        "Lcm(3,7)\n"
      ],
      "metadata": {
        "colab": {
          "base_uri": "https://localhost:8080/"
        },
        "id": "tTyTpoQo_Hi_",
        "outputId": "a705752a-78b3-4572-9dcd-0c206f8f5da5"
      },
      "execution_count": 24,
      "outputs": [
        {
          "output_type": "stream",
          "name": "stdout",
          "text": [
            "Greater is the LCM => 8\n",
            "Greater is the LCM => 10\n",
            "Greater is the LCM => 21\n"
          ]
        }
      ]
    },
    {
      "cell_type": "code",
      "source": [
        "#Armstrong taking number as a string\n",
        "def is_armstrong(num):\n",
        "  num_st = str(num)\n",
        "  num_length = len(num_st)\n",
        "  total = 0\n",
        "  for i in num_st:\n",
        "    total += int(i) ** num_length\n",
        "  if(total == num):\n",
        "    print(\"It is an armstrong number\")\n",
        "  else:\n",
        "    print(\"Not an armstrong number\")\n",
        "\n",
        "is_armstrong(153)\n",
        "\n",
        "is_armstrong(531)\n",
        "\n",
        "is_armstrong(371)"
      ],
      "metadata": {
        "colab": {
          "base_uri": "https://localhost:8080/"
        },
        "id": "keJDibSG_NGS",
        "outputId": "1112aa9e-33b2-408c-a2e8-3aa225f98138"
      },
      "execution_count": 25,
      "outputs": [
        {
          "output_type": "stream",
          "name": "stdout",
          "text": [
            "It is an armstrong number\n",
            "Not an armstrong number\n",
            "It is an armstrong number\n"
          ]
        }
      ]
    },
    {
      "cell_type": "code",
      "source": [
        "#Armstrong Without typecasting number into string\n",
        "def armstrg(num):\n",
        "  a = num\n",
        "  num_length = 0\n",
        "  temp = num\n",
        "  while(temp > 0):\n",
        "    num_length += 1\n",
        "    temp //= 10\n",
        "  sop = 0\n",
        "  while num > 0:\n",
        "    digit = num % 10\n",
        "    sop += digit ** num_length\n",
        "    num //= 10\n",
        "  if(a == sop):\n",
        "    print(\"Number is an armstrong\")\n",
        "  else:\n",
        "    print(\"Number is not an armstrong\")\n",
        "\n",
        "armstrg(153)\n",
        "\n",
        "armstrg(513)\n",
        "\n",
        "armstrg(371)\n"
      ],
      "metadata": {
        "colab": {
          "base_uri": "https://localhost:8080/"
        },
        "id": "QkgxKmfP_XIh",
        "outputId": "88bbd755-c13d-4077-94c6-868c83e606f1"
      },
      "execution_count": 26,
      "outputs": [
        {
          "output_type": "stream",
          "name": "stdout",
          "text": [
            "Number is an armstrong\n",
            "Number is not an armstrong\n",
            "Number is an armstrong\n"
          ]
        }
      ]
    },
    {
      "cell_type": "code",
      "source": [
        "#function => passing values in more ways\n",
        "def func(a,b):\n",
        "  print(\"a =>\",a,\"b =>\",b)\n",
        "\n",
        "#position arguement\n",
        "func(10,20)\n",
        "func(20,10)\n",
        "\n",
        "#keyword arguement => which variable will have which value\n",
        "func(b=20,a=10)\n",
        "\n",
        "#First class function\n",
        "def funct():\n",
        "  print(\"Hello\")\n",
        "x = funct\n",
        "funct()\n",
        "x()"
      ],
      "metadata": {
        "colab": {
          "base_uri": "https://localhost:8080/"
        },
        "id": "HB9m0Pss_nzW",
        "outputId": "160cb82b-a592-4bed-de5f-2e02c389396b"
      },
      "execution_count": 27,
      "outputs": [
        {
          "output_type": "stream",
          "name": "stdout",
          "text": [
            "a => 10 b => 20\n",
            "a => 20 b => 10\n",
            "a => 10 b => 20\n",
            "Hello\n",
            "Hello\n"
          ]
        }
      ]
    }
  ]
}