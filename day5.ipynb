{
  "nbformat": 4,
  "nbformat_minor": 0,
  "metadata": {
    "colab": {
      "provenance": [],
      "authorship_tag": "ABX9TyMhK5AkTiaL/VOwOsp3yEdI",
      "include_colab_link": true
    },
    "kernelspec": {
      "name": "python3",
      "display_name": "Python 3"
    },
    "language_info": {
      "name": "python"
    }
  },
  "cells": [
    {
      "cell_type": "markdown",
      "metadata": {
        "id": "view-in-github",
        "colab_type": "text"
      },
      "source": [
        "<a href=\"https://colab.research.google.com/github/Prachijainn24/python-training/blob/main/day5.ipynb\" target=\"_parent\"><img src=\"https://colab.research.google.com/assets/colab-badge.svg\" alt=\"Open In Colab\"/></a>"
      ]
    },
    {
      "cell_type": "code",
      "execution_count": null,
      "metadata": {
        "colab": {
          "base_uri": "https://localhost:8080/"
        },
        "id": "fKfgbv70Zjg-",
        "outputId": "bb5edca4-642c-474c-9e7b-747c9ad07e31"
      },
      "outputs": [
        {
          "output_type": "stream",
          "name": "stdout",
          "text": [
            "1234\n",
            "-123\n",
            "--12\n",
            "---1\n"
          ]
        }
      ],
      "source": [
        "num = 4\n",
        "\n",
        "for i in range(num):\n",
        "    print('-'*i, end='')  # print i dashes\n",
        "    for j in range(1, num - i + 1):  # print numbers from 1 to (4 - i)\n",
        "        print(j, end='')\n",
        "    print()  # new line after each row"
      ]
    },
    {
      "cell_type": "code",
      "source": [],
      "metadata": {
        "id": "HmZwk4FKiEX4"
      },
      "execution_count": null,
      "outputs": []
    },
    {
      "cell_type": "code",
      "source": [],
      "metadata": {
        "id": "0oVsaK0MfzoM"
      },
      "execution_count": null,
      "outputs": []
    }
  ]
}