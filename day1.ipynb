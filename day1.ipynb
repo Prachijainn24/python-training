{
  "nbformat": 4,
  "nbformat_minor": 0,
  "metadata": {
    "colab": {
      "provenance": [],
      "authorship_tag": "ABX9TyNhQ1i7giu1hh1URl0UWCuJ",
      "include_colab_link": true
    },
    "kernelspec": {
      "name": "python3",
      "display_name": "Python 3"
    },
    "language_info": {
      "name": "python"
    }
  },
  "cells": [
    {
      "cell_type": "markdown",
      "metadata": {
        "id": "view-in-github",
        "colab_type": "text"
      },
      "source": [
        "<a href=\"https://colab.research.google.com/github/Prachijainn24/python-training/blob/main/day1.ipynb\" target=\"_parent\"><img src=\"https://colab.research.google.com/assets/colab-badge.svg\" alt=\"Open In Colab\"/></a>"
      ]
    },
    {
      "cell_type": "code",
      "execution_count": null,
      "metadata": {
        "colab": {
          "base_uri": "https://localhost:8080/"
        },
        "id": "yW3kIcadTqjm",
        "outputId": "fba976de-a17d-4449-f706-a4765521333b"
      },
      "outputs": [
        {
          "output_type": "stream",
          "name": "stdout",
          "text": [
            "hello world-hello prachii\n"
          ]
        }
      ],
      "source": [
        "print(\"hello world\",end=\"-\")\n",
        "print(\"hello prachii\")"
      ]
    },
    {
      "cell_type": "code",
      "source": [
        "x=\"10\"\n",
        "print(type(x))"
      ],
      "metadata": {
        "colab": {
          "base_uri": "https://localhost:8080/"
        },
        "id": "Lm0MUoC3VB9a",
        "outputId": "3de1fd4e-66b9-40bd-f613-2b1fa206ad36"
      },
      "execution_count": null,
      "outputs": [
        {
          "output_type": "stream",
          "name": "stdout",
          "text": [
            "<class 'str'>\n"
          ]
        }
      ]
    },
    {
      "cell_type": "code",
      "source": [
        "x='10'\n",
        "print(type(x))"
      ],
      "metadata": {
        "colab": {
          "base_uri": "https://localhost:8080/"
        },
        "id": "bhrw0hylVRaK",
        "outputId": "9bfbe871-dd24-4c87-e177-f4cdc15b6243"
      },
      "execution_count": null,
      "outputs": [
        {
          "output_type": "stream",
          "name": "stdout",
          "text": [
            "<class 'str'>\n"
          ]
        }
      ]
    },
    {
      "cell_type": "markdown",
      "source": [
        "variable declaration"
      ],
      "metadata": {
        "id": "PsJoKuyPVf8y"
      }
    },
    {
      "cell_type": "markdown",
      "source": [
        "string formatting=> string readable format"
      ],
      "metadata": {
        "id": "FQ3Mj_mIWkt1"
      }
    },
    {
      "cell_type": "code",
      "source": [
        "year=2025\n",
        "company=\"regex software\"\n",
        "print(\"my year is\",year,\"company name is=>\",company)"
      ],
      "metadata": {
        "colab": {
          "base_uri": "https://localhost:8080/"
        },
        "id": "iYWlwnQ_Vjr1",
        "outputId": "4be2832b-cb88-4e0f-b7f3-0249adeca418"
      },
      "execution_count": null,
      "outputs": [
        {
          "output_type": "stream",
          "name": "stdout",
          "text": [
            "my year is 2025 company name is=> regex software\n"
          ]
        }
      ]
    },
    {
      "cell_type": "code",
      "source": [
        "year=2025\n",
        "print (f\"year is{year} company name is =>{company}\" )"
      ],
      "metadata": {
        "colab": {
          "base_uri": "https://localhost:8080/"
        },
        "id": "euLhbaz1WtzI",
        "outputId": "3cb54b5e-aeae-4dd4-8d4b-f3759619c1a3"
      },
      "execution_count": null,
      "outputs": [
        {
          "output_type": "stream",
          "name": "stdout",
          "text": [
            "year is2025 company name is =>regex software\n"
          ]
        }
      ]
    },
    {
      "cell_type": "markdown",
      "source": [
        "multiline string"
      ],
      "metadata": {
        "id": "TMRVZdewXoGR"
      }
    },
    {
      "cell_type": "code",
      "source": [
        "address='''b35 gopalpura jaipur\n",
        "rajasthan 302018'''\n",
        "print(address)"
      ],
      "metadata": {
        "colab": {
          "base_uri": "https://localhost:8080/"
        },
        "id": "emKcrW_8XFJU",
        "outputId": "06ee45e2-2927-47b5-a964-4e8a93434cde"
      },
      "execution_count": null,
      "outputs": [
        {
          "output_type": "stream",
          "name": "stdout",
          "text": [
            "b35 gopalpura jaipur\n",
            "rajasthan 302018\n"
          ]
        }
      ]
    },
    {
      "cell_type": "code",
      "source": [
        "#single line comment\n",
        "''''\n",
        "'''"
      ],
      "metadata": {
        "colab": {
          "base_uri": "https://localhost:8080/",
          "height": 36
        },
        "id": "nk1yAFMhXreY",
        "outputId": "75f0b1b7-159e-4ec5-a2dc-28588e728253"
      },
      "execution_count": null,
      "outputs": [
        {
          "output_type": "execute_result",
          "data": {
            "text/plain": [
              "\"'\\n\""
            ],
            "application/vnd.google.colaboratory.intrinsic+json": {
              "type": "string"
            }
          },
          "metadata": {},
          "execution_count": 35
        }
      ]
    },
    {
      "cell_type": "code",
      "source": [
        "username=\"prachi\"\n",
        "msg=f\"happy birthday {username}\"\n",
        "\n",
        "print (msg)\n",
        "username=\"isha\"\n",
        "print(msg)"
      ],
      "metadata": {
        "colab": {
          "base_uri": "https://localhost:8080/"
        },
        "id": "Ko2MxWDQYIxZ",
        "outputId": "c4c0875b-66d9-41fc-ff49-fa6ddda4561c"
      },
      "execution_count": null,
      "outputs": [
        {
          "output_type": "stream",
          "name": "stdout",
          "text": [
            "happy birthday prachi\n",
            "happy birthday prachi\n"
          ]
        }
      ]
    },
    {
      "cell_type": "code",
      "source": [
        "#basic operators\n",
        "'''\n",
        "10//2     floor division => int\n",
        "'''"
      ],
      "metadata": {
        "colab": {
          "base_uri": "https://localhost:8080/",
          "height": 36
        },
        "id": "p1mA11HrZHDk",
        "outputId": "953e8c43-c18a-43f7-8616-56e22865acae"
      },
      "execution_count": null,
      "outputs": [
        {
          "output_type": "execute_result",
          "data": {
            "text/plain": [
              "'\\n10//2     floor division => int\\n'"
            ],
            "application/vnd.google.colaboratory.intrinsic+json": {
              "type": "string"
            }
          },
          "metadata": {},
          "execution_count": 37
        }
      ]
    },
    {
      "cell_type": "code",
      "source": [
        "10/2\n",
        "10//2"
      ],
      "metadata": {
        "colab": {
          "base_uri": "https://localhost:8080/"
        },
        "id": "z0YelJWGZd4N",
        "outputId": "6019e07e-e7c8-4d84-bdfe-d4edd6b8f78e"
      },
      "execution_count": null,
      "outputs": [
        {
          "output_type": "execute_result",
          "data": {
            "text/plain": [
              "5"
            ]
          },
          "metadata": {},
          "execution_count": 38
        }
      ]
    },
    {
      "cell_type": "code",
      "source": [
        "#float iss a larger datatype\n",
        "5.0+2"
      ],
      "metadata": {
        "colab": {
          "base_uri": "https://localhost:8080/"
        },
        "id": "9w0qx4RJZlm9",
        "outputId": "8f7ee92f-5e08-426d-dbda-89c7e7e26e5b"
      },
      "execution_count": null,
      "outputs": [
        {
          "output_type": "execute_result",
          "data": {
            "text/plain": [
              "7.0"
            ]
          },
          "metadata": {},
          "execution_count": 39
        }
      ]
    },
    {
      "cell_type": "code",
      "source": [
        "2**3"
      ],
      "metadata": {
        "colab": {
          "base_uri": "https://localhost:8080/"
        },
        "id": "lbY8WME0Z2AZ",
        "outputId": "f48295ed-e5bf-4222-f2ed-070a8f14d27a"
      },
      "execution_count": null,
      "outputs": [
        {
          "output_type": "execute_result",
          "data": {
            "text/plain": [
              "8"
            ]
          },
          "metadata": {},
          "execution_count": 40
        }
      ]
    },
    {
      "cell_type": "code",
      "source": [
        "#comparison => true/false\n",
        "10>2"
      ],
      "metadata": {
        "colab": {
          "base_uri": "https://localhost:8080/"
        },
        "id": "FLjF1UfqaTN2",
        "outputId": "d8f44637-0808-4613-db82-8b5f0f1c00ba"
      },
      "execution_count": null,
      "outputs": [
        {
          "output_type": "execute_result",
          "data": {
            "text/plain": [
              "True"
            ]
          },
          "metadata": {},
          "execution_count": 41
        }
      ]
    },
    {
      "cell_type": "code",
      "source": [
        "a=10\n",
        "if(a>5):\n",
        "  print(\"hey\")\n",
        "else:\n",
        "      print(\"condition is false\")"
      ],
      "metadata": {
        "colab": {
          "base_uri": "https://localhost:8080/"
        },
        "id": "FG4ceF04bcjw",
        "outputId": "e45723fc-ad81-42e9-c359-a16e2713e5b1"
      },
      "execution_count": null,
      "outputs": [
        {
          "output_type": "stream",
          "name": "stdout",
          "text": [
            "hey\n"
          ]
        }
      ]
    },
    {
      "cell_type": "code",
      "source": [
        "a=10\n",
        "b=8\n",
        "c=2\n",
        "if(a<b and a<c):\n",
        "     print(\"a is minimum\")\n",
        "elif(b<a and b<c) :\n",
        "   print(\"b is  minimum\")\n",
        "else:\n",
        "   print(\"c is   minimum\")\n"
      ],
      "metadata": {
        "colab": {
          "base_uri": "https://localhost:8080/"
        },
        "id": "_AXcAw4-cHTJ",
        "outputId": "90dad930-bc6e-485b-f3ab-7c14bad2d4ca"
      },
      "execution_count": null,
      "outputs": [
        {
          "output_type": "stream",
          "name": "stdout",
          "text": [
            "c is   minimum\n"
          ]
        }
      ]
    },
    {
      "cell_type": "code",
      "source": [
        "age=30\n",
        "if(age>45):\n",
        "  print(\"citizen\")\n",
        "elif (age>30) :\n",
        "   print(\"married\")\n",
        "elif(age>18) :\n",
        "   print(\"adult\")\n",
        "else:\n",
        "  print(\"child\")\n"
      ],
      "metadata": {
        "colab": {
          "base_uri": "https://localhost:8080/"
        },
        "id": "-8DC3_pWdhCL",
        "outputId": "5d37232d-81fd-4254-b9f5-1cf52b6a6507"
      },
      "execution_count": null,
      "outputs": [
        {
          "output_type": "stream",
          "name": "stdout",
          "text": [
            "adult\n"
          ]
        }
      ]
    },
    {
      "cell_type": "code",
      "source": [
        "num=10\n",
        "if(num%2==0):\n",
        "    print(\"number is even\",num)\n",
        "else:\n",
        "  print(\"number is odd\",num)"
      ],
      "metadata": {
        "colab": {
          "base_uri": "https://localhost:8080/"
        },
        "id": "HYQCcYa6fpS-",
        "outputId": "82a078af-a7d6-4179-ae08-b83e9f4b87b7"
      },
      "execution_count": null,
      "outputs": [
        {
          "output_type": "stream",
          "name": "stdout",
          "text": [
            "number is even 10\n"
          ]
        }
      ]
    },
    {
      "cell_type": "markdown",
      "source": [
        "string slicing and indexing"
      ],
      "metadata": {
        "id": "1rSsmKtAgf2D"
      }
    },
    {
      "cell_type": "code",
      "source": [
        "city=\"RAJASTHAN\"\n",
        "print(city[-3])"
      ],
      "metadata": {
        "colab": {
          "base_uri": "https://localhost:8080/"
        },
        "id": "OxOk3YgZgpnU",
        "outputId": "c1cf15ba-a3ac-49b6-a19e-4b6ee6c50008"
      },
      "execution_count": null,
      "outputs": [
        {
          "output_type": "stream",
          "name": "stdout",
          "text": [
            "H\n"
          ]
        }
      ]
    },
    {
      "cell_type": "markdown",
      "source": [
        "slicing => extracting some portion of data"
      ],
      "metadata": {
        "id": "ZfNyASTohWCU"
      }
    },
    {
      "cell_type": "code",
      "source": [
        "#[start : stop : [step=1] ]"
      ],
      "metadata": {
        "id": "ntSV9ppFhHmN"
      },
      "execution_count": null,
      "outputs": []
    },
    {
      "cell_type": "code",
      "source": [
        "city =\"RAJASTHAN\"\n",
        "print(city[0:4] ) #ending values are excluded"
      ],
      "metadata": {
        "colab": {
          "base_uri": "https://localhost:8080/"
        },
        "id": "Q-xfSx91hjXL",
        "outputId": "ff46319f-e4ec-492a-f0db-1bd20e474171"
      },
      "execution_count": null,
      "outputs": [
        {
          "output_type": "stream",
          "name": "stdout",
          "text": [
            "RAJA\n"
          ]
        }
      ]
    },
    {
      "cell_type": "code",
      "source": [
        "city =\"RAJASTHAN\"\n",
        "print(city[:4]) #ending values are excluded"
      ],
      "metadata": {
        "colab": {
          "base_uri": "https://localhost:8080/"
        },
        "id": "xnbkHz6kiAmD",
        "outputId": "1db6578e-5c71-4604-c2e6-99917626605e"
      },
      "execution_count": null,
      "outputs": [
        {
          "output_type": "stream",
          "name": "stdout",
          "text": [
            "RAJA\n"
          ]
        }
      ]
    },
    {
      "cell_type": "code",
      "source": [
        "city =\"RAJASTHAN\"\n",
        "print(city[0:4:1])"
      ],
      "metadata": {
        "colab": {
          "base_uri": "https://localhost:8080/"
        },
        "id": "aSkK3ucAiJKY",
        "outputId": "ecb6d5eb-ffee-4b31-d15b-b00fce4ec017"
      },
      "execution_count": null,
      "outputs": [
        {
          "output_type": "stream",
          "name": "stdout",
          "text": [
            "RAJA\n"
          ]
        }
      ]
    },
    {
      "cell_type": "code",
      "source": [
        "city =\"RAJASTHAN\"\n",
        "print(city[0:4:2])"
      ],
      "metadata": {
        "colab": {
          "base_uri": "https://localhost:8080/"
        },
        "id": "BtOQQ5Akilol",
        "outputId": "1dc17daf-3312-4c81-8e84-c24bd4aa74e8"
      },
      "execution_count": null,
      "outputs": [
        {
          "output_type": "stream",
          "name": "stdout",
          "text": [
            "RJ\n"
          ]
        }
      ]
    },
    {
      "cell_type": "code",
      "source": [
        "city =\"RAJASTHAN\"\n",
        "print(city[1:6:1])"
      ],
      "metadata": {
        "colab": {
          "base_uri": "https://localhost:8080/"
        },
        "id": "8tXPOlb_jJHF",
        "outputId": "e2e15393-2419-4768-96b8-af7c725a4993"
      },
      "execution_count": null,
      "outputs": [
        {
          "output_type": "stream",
          "name": "stdout",
          "text": [
            "AJAST\n"
          ]
        }
      ]
    },
    {
      "cell_type": "code",
      "source": [
        "city =\"RAJASTHAN\"\n",
        "print(city[0:5:-1])"
      ],
      "metadata": {
        "colab": {
          "base_uri": "https://localhost:8080/"
        },
        "id": "HF4Wi2vTjspZ",
        "outputId": "585114cc-c1f8-4e18-80c9-64061910826b"
      },
      "execution_count": null,
      "outputs": [
        {
          "output_type": "stream",
          "name": "stdout",
          "text": [
            "\n"
          ]
        }
      ]
    },
    {
      "cell_type": "code",
      "source": [
        "num=int(input(\"enter the number:\"))\n",
        "if(num% 2 == 0):\n",
        "     print(\"num is even number\")\n",
        "else:\n",
        "  print(\"num is an odd number\")\n",
        "\n"
      ],
      "metadata": {
        "colab": {
          "base_uri": "https://localhost:8080/"
        },
        "id": "I2iTOz9Ok09g",
        "outputId": "d0f47669-ea52-46d9-85ec-cc143a18d1c0"
      },
      "execution_count": null,
      "outputs": [
        {
          "output_type": "stream",
          "name": "stdout",
          "text": [
            "enter the number:5\n",
            "num is an odd number\n"
          ]
        }
      ]
    },
    {
      "cell_type": "code",
      "source": [
        "a=int(input(\"enter the number to check:\"))\n",
        "b=int(input(\"enter the number to check:\"))\n",
        "c=int(input(\"enter the number to check:\"))\n",
        "if(a>b and a>c) :\n",
        "  print(\"a is largeest\")\n",
        "elif(b>a and b>c):\n",
        "    print(\"b is largest\")\n",
        "else:\n",
        "    print(\"c is largest\")"
      ],
      "metadata": {
        "colab": {
          "base_uri": "https://localhost:8080/"
        },
        "id": "bbo0_6pRlgp7",
        "outputId": "d2be7eea-0e46-4225-f06f-730d6326d45d"
      },
      "execution_count": null,
      "outputs": [
        {
          "output_type": "stream",
          "name": "stdout",
          "text": [
            "enter the number to check:5\n",
            "enter the number to check:3\n",
            "enter the number to check:8\n",
            "c is largest\n"
          ]
        }
      ]
    },
    {
      "cell_type": "code",
      "source": [
        "year=int(input(\"enter the year:\"))\n",
        "if(year % 400 ==0 and year % 100==0):\n",
        "   print(year,\"is a leap year\")\n",
        "elif(year %4 ==0 and year %100 !=0):\n",
        "   print(\"is a leap year\",year)\n",
        "else:\n",
        "  print(\"is not a leap year\",year)"
      ],
      "metadata": {
        "id": "VPVvp54MmXfi",
        "colab": {
          "base_uri": "https://localhost:8080/"
        },
        "outputId": "c32032b7-d5dc-40f8-9ebf-23696a9b06a9"
      },
      "execution_count": null,
      "outputs": [
        {
          "output_type": "stream",
          "name": "stdout",
          "text": [
            "enter the year:2000\n",
            "2000 is a leap year\n"
          ]
        }
      ]
    },
    {
      "cell_type": "code",
      "source": [
        "grade=int(input(\"enter the grade:\"))\n",
        "if(grade>=90):\n",
        "  print(\"grade is A\",grade)\n",
        "elif(grade>= 80):\n",
        "  print(\"grade is B\",grade)\n",
        "elif(grade>= 70):\n",
        "  print(\"grade is C\",grade)\n",
        "elif(grade>= 60):\n",
        "  print(\"grade is d\",grade)\n",
        "else:\n",
        " print(\"grade is F\",grade)"
      ],
      "metadata": {
        "colab": {
          "base_uri": "https://localhost:8080/"
        },
        "id": "zEYZRrOnR9lg",
        "outputId": "c1104bc8-47f0-40e1-bcc5-0903234c9cb2"
      },
      "execution_count": null,
      "outputs": [
        {
          "output_type": "stream",
          "name": "stdout",
          "text": [
            "enter the grade:73\n",
            "grade is C 73\n"
          ]
        }
      ]
    },
    {
      "cell_type": "code",
      "source": [
        "letter=(input(\"enter a letter:\"))\n",
        "letter=letter.lower()\n",
        "if(letter==['a', 'e', 'i', 'o', 'u']):\n",
        "  print(\"is a vowel\")\n",
        "else:\n",
        "  print(\"is a consonent\")"
      ],
      "metadata": {
        "colab": {
          "base_uri": "https://localhost:8080/"
        },
        "id": "1g3lHcu7Thsd",
        "outputId": "af18b945-3c5d-4b90-cd3e-aa7f70cdb898"
      },
      "execution_count": null,
      "outputs": [
        {
          "output_type": "stream",
          "name": "stdout",
          "text": [
            "enter a letter:D\n",
            "is a consonent\n"
          ]
        }
      ]
    },
    {
      "cell_type": "code",
      "source": [
        "option = int(input(\"Choose an operation (1-Add, 2-Subtract, 3-Multiply, 4-Divide): \"))\n",
        "\n",
        "if option in [1, 2, 3, 4]:\n",
        "   num1 = int(input(\"Enter the 1st number: \"))\n",
        "   num2 = int(input(\"Enter the 2nd number: \"))\n",
        "\n",
        "if (option == 1):\n",
        "    result = num1 + num2\n",
        "elif (option == 2):\n",
        "    result = num1 - num2\n",
        "elif (option == 3):\n",
        "    result = num1 * num2\n",
        "elif (option == 4):\n",
        "    if num2 != 0:\n",
        "        result = num1 / num2\n",
        "    else:\n",
        "        result = \"undefined (division by zero)\"\n",
        "\n",
        "print(\"The result of the operation is: {}\".format(result))\n"
      ],
      "metadata": {
        "colab": {
          "base_uri": "https://localhost:8080/"
        },
        "id": "W2cVheGZcJpO",
        "outputId": "9c027dda-75ad-4c74-f47e-2df283f87249"
      },
      "execution_count": null,
      "outputs": [
        {
          "output_type": "stream",
          "name": "stdout",
          "text": [
            "Choose an operation (1-Add, 2-Subtract, 3-Multiply, 4-Divide): 3\n",
            "Enter the 1st number: 2\n",
            "Enter the 2nd number: 2\n",
            "The result of the operation is: 4\n"
          ]
        }
      ]
    },
    {
      "cell_type": "code",
      "source": [
        "num=int(input(\"enter the number to check:\"))\n",
        "if(num>0):\n",
        "   print(\"number is positive\")\n",
        "elif(num==0):\n",
        "   print(\"number is 0\")\n",
        "else:\n",
        "   print(\"number is negative\")\n"
      ],
      "metadata": {
        "colab": {
          "base_uri": "https://localhost:8080/"
        },
        "id": "eljCljRCcr7m",
        "outputId": "61ac697b-b88a-42a2-9b1a-fcc182ea3ab1"
      },
      "execution_count": null,
      "outputs": [
        {
          "output_type": "stream",
          "name": "stdout",
          "text": [
            "enter the number to check:0\n",
            "number is 0\n"
          ]
        }
      ]
    },
    {
      "cell_type": "code",
      "source": [
        "# Pre-set credentials\n",
        "correct_username = \"admin\"\n",
        "correct_password = \"1234\"\n",
        "\n",
        "# Take user input\n",
        "username = input(\"Enter username: \")\n",
        "password = input(\"Enter password: \")\n",
        "\n",
        "# Check credentials\n",
        "if username == correct_username and password == correct_password:\n",
        "    print(\"Login Successful\")\n",
        "else:\n",
        "    print(\"Login Failed\")\n"
      ],
      "metadata": {
        "colab": {
          "base_uri": "https://localhost:8080/"
        },
        "id": "tWJcpDuFuz2F",
        "outputId": "47a9b25f-bfe5-4dce-f000-860083b5f453"
      },
      "execution_count": null,
      "outputs": [
        {
          "output_type": "stream",
          "name": "stdout",
          "text": [
            "Enter username: admin\n",
            "Enter password: 1234\n",
            "Login Successful\n"
          ]
        }
      ]
    },
    {
      "cell_type": "code",
      "source": [
        "# Take input for the three sides\n",
        "a = float(input(\"Enter first side: \"))\n",
        "b = float(input(\"Enter second side: \"))\n",
        "c = float(input(\"Enter third side: \"))\n",
        "\n",
        "if (a + b > c) and (b + c > a) and (a + c > b):\n",
        "    print(\"The sides is a valid triangle.\")\n",
        "else:\n",
        "    print(\"The sides do NOT form a valid triangle.\")\n"
      ],
      "metadata": {
        "colab": {
          "base_uri": "https://localhost:8080/"
        },
        "id": "cUf0MRSOwQ4g",
        "outputId": "d23609f5-2f83-4559-8253-e25b35d78f7b"
      },
      "execution_count": null,
      "outputs": [
        {
          "output_type": "stream",
          "name": "stdout",
          "text": [
            "Enter first side: 9\n",
            "Enter second side: 9\n",
            "Enter third side: 3\n",
            "The sides is a valid triangle.\n"
          ]
        }
      ]
    },
    {
      "cell_type": "code",
      "source": [
        "# Get the product price from the user\n",
        "price = float(input(\"Enter the price of the product: \"))\n",
        "\n",
        "\n",
        "if (price > 1000):\n",
        "    discount = 0.10\n",
        "elif (500 <= price <= 1000):\n",
        "    discount = 0.05\n",
        "else:\n",
        "    discount = 0.0   # No discount\n",
        "\n",
        "\n",
        "discount_amount = price * discount\n",
        "final_price = price - discount_amount\n",
        "\n",
        "# Print the result\n",
        "print(f\"Original Price: ₹{price:.2f}\")\n",
        "print(f\"Discount: ₹{discount_amount:.2f}\")\n",
        "print(f\"Final Price after Discount: ₹{final_price:.2f}\")\n"
      ],
      "metadata": {
        "colab": {
          "base_uri": "https://localhost:8080/"
        },
        "id": "tmgUwEn6cpNx",
        "outputId": "c9b381ed-8162-48a2-c0eb-2a3d68945fc8"
      },
      "execution_count": null,
      "outputs": [
        {
          "output_type": "stream",
          "name": "stdout",
          "text": [
            "Enter the price of the product: 2000\n",
            "Original Price: ₹2000.00\n",
            "Discount: ₹200.00\n",
            "Final Price after Discount: ₹1800.00\n"
          ]
        }
      ]
    },
    {
      "cell_type": "code",
      "source": [
        "\n",
        "month = input(\"Enter the name of the month: \").strip().lower()\n",
        "year = int(input(\"Enter the year: \"))\n",
        "\n",
        "if (year % 4 == 0 and year % 100 != 0) or (year % 400 == 0):\n",
        "    leap = True\n",
        "else:\n",
        "    leap = False\n",
        "\n",
        "# Determine days in the month\n",
        "if month == \"january\":\n",
        "    days = 31\n",
        "elif month == \"february\":\n",
        "    if leap:\n",
        "        days = 29\n",
        "    else:\n",
        "        days = 28\n",
        "elif month == \"march\":\n",
        "    days = 31\n",
        "elif month == \"april\":\n",
        "    days = 30\n",
        "elif month == \"may\":\n",
        "    days = 31\n",
        "elif month == \"june\":\n",
        "    days = 30\n",
        "elif month == \"july\":\n",
        "    days = 31\n",
        "elif month == \"august\":\n",
        "    days = 31\n",
        "elif month == \"september\":\n",
        "    days = 30\n",
        "elif month == \"october\":\n",
        "    days = 31\n",
        "elif month == \"november\":\n",
        "    days = 30\n",
        "elif month == \"december\":\n",
        "    days = 31\n",
        "else:\n",
        "    days = -1  # Invalid input\n",
        "\n",
        "# Display result\n",
        "if days == -1:\n",
        "    print(\"Invalid month name.\")\n",
        "else:\n",
        "    print(f\"{month.capitalize()} {year} has {days} days.\")\n"
      ],
      "metadata": {
        "colab": {
          "base_uri": "https://localhost:8080/"
        },
        "id": "u0RVOzgydznt",
        "outputId": "c9201d70-7acf-4691-8dfc-b897bbe86667"
      },
      "execution_count": null,
      "outputs": [
        {
          "output_type": "stream",
          "name": "stdout",
          "text": [
            "Enter the name of the month: February \n",
            "Enter the year: 2024\n",
            "February 2024 has 29 days.\n"
          ]
        }
      ]
    },
    {
      "cell_type": "code",
      "source": [
        "# Initial balance\n",
        "balance = 1000.0\n",
        "\n",
        "print(\"Welcome to the ATM\")\n",
        "print(\"1. Check Balance\")\n",
        "print(\"2. Deposit Money\")\n",
        "print(\"3. Withdraw Money\")\n",
        "\n",
        "choice = int(input(\"Enter your choice (1/2/3): \"))\n",
        "\n",
        "if (choice == 1):\n",
        "    print(f\"Your current balance is ₹{balance:.2f}\")\n",
        "\n",
        "elif (choice == 2):\n",
        "    deposit = float(input(\"Enter amount to deposit: ₹\"))\n",
        "    if (deposit > 0):\n",
        "        balance += deposit\n",
        "        print(f\"₹{deposit:.2f} deposited successfully.\")\n",
        "        print(f\"Updated balance: ₹{balance:.2f}\")\n",
        "    else:\n",
        "        print(\"Invalid deposit amount.\")\n",
        "\n",
        "elif (choice == 3):\n",
        "    withdraw = float(input(\"Enter amount to withdraw: ₹\"))\n",
        "    if (withdraw > 0):\n",
        "        if (withdraw <= balance):\n",
        "            balance -= withdraw\n",
        "            print(f\"₹{withdraw:.2f} withdrawn successfully.\")\n",
        "            print(f\"Updated balance: ₹{balance:.2f}\")\n",
        "        else:\n",
        "            print(\"Insufficient balance.\")\n",
        "    else:\n",
        "        print(\"Invalid withdrawal amount.\")\n",
        "\n",
        "else:\n",
        "    print(\"Invalid choice. Please select 1, 2, or 3.\")\n"
      ],
      "metadata": {
        "colab": {
          "base_uri": "https://localhost:8080/"
        },
        "id": "kJ3P4_Abee-x",
        "outputId": "aca07276-5228-4a3b-e61b-5ae783905a08"
      },
      "execution_count": null,
      "outputs": [
        {
          "output_type": "stream",
          "name": "stdout",
          "text": [
            "Welcome to the ATM\n",
            "1. Check Balance\n",
            "2. Deposit Money\n",
            "3. Withdraw Money\n",
            "Enter your choice (1/2/3): 1\n",
            "Your current balance is ₹1000.00\n"
          ]
        }
      ]
    },
    {
      "cell_type": "code",
      "source": [
        "# Take age input from the user\n",
        "age = int(input(\"Enter the age: \"))\n",
        "\n",
        "if age >= 0 and age <= 1:\n",
        "    category = \"Infant\"\n",
        "elif age >= 2 and age <= 4:\n",
        "    category = \"Toddler\"\n",
        "elif age >= 5 and age <= 12:\n",
        "    category = \"Child\"\n",
        "elif age >= 13 and age <= 19:\n",
        "    category = \"Teenager\"\n",
        "elif age >= 20 and age <= 59:\n",
        "    category = \"Adult\"\n",
        "elif age >= 60:\n",
        "    category = \"Senior\"\n",
        "else:\n",
        "    category = \"Invalid age\"\n",
        "\n",
        "# Print the result\n",
        "print(f\"The person is categorized as: {category}\")\n"
      ],
      "metadata": {
        "id": "1Rfhb9jVe7-x"
      },
      "execution_count": null,
      "outputs": []
    }
  ]
}