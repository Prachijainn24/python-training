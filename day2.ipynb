{
  "nbformat": 4,
  "nbformat_minor": 0,
  "metadata": {
    "colab": {
      "provenance": [],
      "authorship_tag": "ABX9TyPFw0/sIVCBuIjvs4Crl/31",
      "include_colab_link": true
    },
    "kernelspec": {
      "name": "python3",
      "display_name": "Python 3"
    },
    "language_info": {
      "name": "python"
    }
  },
  "cells": [
    {
      "cell_type": "markdown",
      "metadata": {
        "id": "view-in-github",
        "colab_type": "text"
      },
      "source": [
        "<a href=\"https://colab.research.google.com/github/Prachijainn24/python-training/blob/main/day2.ipynb\" target=\"_parent\"><img src=\"https://colab.research.google.com/assets/colab-badge.svg\" alt=\"Open In Colab\"/></a>"
      ]
    },
    {
      "cell_type": "code",
      "execution_count": null,
      "metadata": {
        "colab": {
          "base_uri": "https://localhost:8080/"
        },
        "id": "3ofcac2VrWMm",
        "outputId": "22c40c0e-31d3-4880-ca91-56187f86eb8c"
      },
      "outputs": [
        {
          "output_type": "stream",
          "name": "stdout",
          "text": [
            "hello world!\n"
          ]
        }
      ],
      "source": [
        "print(\"hello world!\")"
      ]
    },
    {
      "cell_type": "code",
      "source": [
        "# BMI Calculator Program\n",
        "\n",
        "weight = float(input(\"Enter your weight in kilograms: \"))\n",
        "height = float(input(\"Enter your height in meters: \"))\n",
        "\n",
        "bmi = weight / (height ** 2)\n",
        "\n",
        "\n",
        "print(f\"Your BMI is: {bmi:.2f}\")\n",
        "\n",
        "if bmi < 18.5:\n",
        "    print(\"Category: Underweight\")\n",
        "elif 18.5 <= bmi < 24.9:\n",
        "    print(\"Category: Normal weight\")\n",
        "elif 25 <= bmi < 29.9:\n",
        "    print(\"Category: Overweight\")\n",
        "else:\n",
        "    print(\"Category: Obesity\")\n"
      ],
      "metadata": {
        "colab": {
          "base_uri": "https://localhost:8080/"
        },
        "id": "1fYWiBG6rgQX",
        "outputId": "b6f61148-1eaf-481a-93f5-75a7ed9c3833"
      },
      "execution_count": null,
      "outputs": [
        {
          "output_type": "stream",
          "name": "stdout",
          "text": [
            "Enter your weight in kilograms: 55\n",
            "Enter your height in meters: 40.9\n",
            "Your BMI is: 0.03\n",
            "Category: Underweight\n"
          ]
        }
      ]
    },
    {
      "cell_type": "code",
      "source": [
        "price=float(input(\"enter the product price:\"))\n",
        "\n",
        "if(price<=1000):\n",
        "  print(\"discount will be 10%\")\n",
        "elif(price>=):\n",
        "  print(\"product discount is 5%\")\n",
        "else:\n",
        "   print(\"no discount applied \")\n",
        "\n"
      ],
      "metadata": {
        "id": "ua8QyzOAu1HZ"
      },
      "execution_count": null,
      "outputs": []
    },
    {
      "cell_type": "code",
      "source": [
        "a=20\n",
        "b=30\n",
        "print(a)\n",
        "print(b)\n",
        "temp=a\n",
        "a=b\n",
        "b=temp\n",
        "print(a)\n",
        "print(b)"
      ],
      "metadata": {
        "colab": {
          "base_uri": "https://localhost:8080/"
        },
        "id": "882194ypxYQO",
        "outputId": "5eed4ce1-a396-49b7-ca21-948362b269b5"
      },
      "execution_count": null,
      "outputs": [
        {
          "output_type": "stream",
          "name": "stdout",
          "text": [
            "20\n",
            "30\n",
            "30\n",
            "20\n"
          ]
        }
      ]
    },
    {
      "cell_type": "code",
      "source": [
        "a=20\n",
        "b=30\n",
        "print(a)\n",
        "print(b)\n",
        "a=a+b\n",
        "b=a-b\n",
        "a=a-b\n",
        "print(a)\n",
        "print(b)"
      ],
      "metadata": {
        "colab": {
          "base_uri": "https://localhost:8080/"
        },
        "id": "mVK-eWkIzU1j",
        "outputId": "083fbe30-47f6-4e1d-c8f2-94500caae1a0"
      },
      "execution_count": null,
      "outputs": [
        {
          "output_type": "stream",
          "name": "stdout",
          "text": [
            "20\n",
            "30\n",
            "30\n",
            "20\n"
          ]
        }
      ]
    },
    {
      "cell_type": "code",
      "source": [
        "for i in range(8,2,-1):\n",
        "   print(i)"
      ],
      "metadata": {
        "colab": {
          "base_uri": "https://localhost:8080/"
        },
        "id": "CBAQNpy805Ie",
        "outputId": "3a5605cc-d2cb-4809-e9e9-9d5f83f3f5a6"
      },
      "execution_count": null,
      "outputs": [
        {
          "output_type": "stream",
          "name": "stdout",
          "text": [
            "8\n",
            "7\n",
            "6\n",
            "5\n",
            "4\n",
            "3\n"
          ]
        }
      ]
    },
    {
      "cell_type": "code",
      "source": [
        "total=0\n",
        "for i in range(1,11):\n",
        " total=total+i\n",
        " print(total)"
      ],
      "metadata": {
        "colab": {
          "base_uri": "https://localhost:8080/"
        },
        "id": "03JDteED_fw_",
        "outputId": "f1693c82-dfdb-46f2-bcaf-1126a227dcf1"
      },
      "execution_count": null,
      "outputs": [
        {
          "output_type": "stream",
          "name": "stdout",
          "text": [
            "1\n",
            "3\n",
            "6\n",
            "10\n",
            "15\n",
            "21\n",
            "28\n",
            "36\n",
            "45\n",
            "55\n"
          ]
        }
      ]
    },
    {
      "cell_type": "code",
      "source": [
        "i=input(\"enter the number\")\n",
        "for i in range(20,55):\n",
        " if(i%2==0 and i%6==0):\n",
        "   print(\"i is divisible by both 2 and 6\")\n",
        "else:\n",
        "     print(\"not divisible\")"
      ],
      "metadata": {
        "colab": {
          "base_uri": "https://localhost:8080/"
        },
        "id": "uM1i-i35CPDK",
        "outputId": "f30c11eb-6659-4933-b6b2-0dfe6981582f"
      },
      "execution_count": null,
      "outputs": [
        {
          "output_type": "stream",
          "name": "stdout",
          "text": [
            "enter the number6\n",
            "i is divisible by both 2 and 6\n",
            "i is divisible by both 2 and 6\n",
            "i is divisible by both 2 and 6\n",
            "i is divisible by both 2 and 6\n",
            "i is divisible by both 2 and 6\n",
            "i is divisible by both 2 and 6\n",
            "not divisible\n"
          ]
        }
      ]
    },
    {
      "cell_type": "code",
      "source": [
        "num=10\n",
        "for i in range(1,11):\n",
        "  if(num%i==0):\n",
        "     print(\"factor is:\",i)"
      ],
      "metadata": {
        "colab": {
          "base_uri": "https://localhost:8080/"
        },
        "id": "SEGH_6WlDVH4",
        "outputId": "15090335-e03f-4cee-a9dd-1d024155775b"
      },
      "execution_count": null,
      "outputs": [
        {
          "output_type": "stream",
          "name": "stdout",
          "text": [
            "factor is: 1\n",
            "factor is: 2\n",
            "factor is: 5\n",
            "factor is: 10\n"
          ]
        }
      ]
    },
    {
      "cell_type": "code",
      "source": [
        "num=14\n",
        "count=0\n",
        "for i in range(1,num,-1):\n",
        "   if(num%i==0):\n",
        "      count+=1\n",
        "\n",
        "if(count>2):\n",
        "    print(\"prime number\",num)\n",
        "else:\n",
        "   print(\"not prime no\",num)"
      ],
      "metadata": {
        "colab": {
          "base_uri": "https://localhost:8080/"
        },
        "id": "8rgbezfGD1KS",
        "outputId": "9031e4ad-0023-4181-976c-edeb6de10cec"
      },
      "execution_count": null,
      "outputs": [
        {
          "output_type": "stream",
          "name": "stdout",
          "text": [
            "not prime no 14\n"
          ]
        }
      ]
    },
    {
      "cell_type": "code",
      "source": [
        "for i in range(1,9):\n",
        "   if(i==7):\n",
        "      break\n",
        "print(\"break statement is used\",i)"
      ],
      "metadata": {
        "colab": {
          "base_uri": "https://localhost:8080/"
        },
        "id": "1g2r9ST7Fk82",
        "outputId": "d084e236-da5a-4211-f423-025411472243"
      },
      "execution_count": null,
      "outputs": [
        {
          "output_type": "stream",
          "name": "stdout",
          "text": [
            "break statement is used 7\n"
          ]
        }
      ]
    },
    {
      "cell_type": "code",
      "source": [
        "i=1\n",
        "while(i<5):\n",
        "    print(\"hellooo\",i)\n",
        "    i+=1\n"
      ],
      "metadata": {
        "colab": {
          "base_uri": "https://localhost:8080/"
        },
        "id": "II9sxBpeH8ju",
        "outputId": "d1343d55-9eb4-49d4-e19d-7b235419965f"
      },
      "execution_count": null,
      "outputs": [
        {
          "output_type": "stream",
          "name": "stdout",
          "text": [
            "hellooo 1\n",
            "hellooo 2\n",
            "hellooo 3\n",
            "hellooo 4\n"
          ]
        }
      ]
    },
    {
      "cell_type": "code",
      "source": [
        "#while loop\n",
        "#LCM 4,6\n",
        "a=2\n",
        "b=5\n",
        "if(a>b):\n",
        "     greater=a\n",
        "else:\n",
        "      greater=b\n",
        "\n",
        "while(True):\n",
        "   if(greater%a==0 and greater%b==0):\n",
        "    print(\"greater is lcm=>\",greater)\n",
        "   break\n",
        "else:\n",
        "       greater+=1"
      ],
      "metadata": {
        "id": "jh4i1MbuuEtM"
      },
      "execution_count": null,
      "outputs": []
    },
    {
      "cell_type": "code",
      "source": [
        "#palindrome\n",
        "data=\"saras\"\n",
        "starts=0\n",
        "end=len(data)-1\n",
        "a=0\n",
        "while(starts>end):\n",
        "     if(data[starts]!= data[end]):\n",
        "       a=1\n",
        "     break\n",
        "\n",
        "     starts+=1\n",
        "     end=1\n",
        "\n",
        "if(a==1):\n",
        "    print(\"string is not palindrom\")\n",
        "else:\n",
        "    print(\"string is palindrome\")\n"
      ],
      "metadata": {
        "colab": {
          "base_uri": "https://localhost:8080/"
        },
        "id": "s4IXi4nF0B02",
        "outputId": "deeb2d51-f8d2-473e-e0ea-85d782cf3244"
      },
      "execution_count": null,
      "outputs": [
        {
          "output_type": "stream",
          "name": "stdout",
          "text": [
            "string is palindrome\n"
          ]
        }
      ]
    },
    {
      "cell_type": "code",
      "source": [
        "#list\n",
        "mylist = [1,20,30,'abc']\n",
        "mylist[0]=\"tiger\" #updated\n",
        "mylist.append(\"prachi\")  #insert at last\n",
        "print(mylist)\n",
        "mylist.insert(0,\"list\")   #inserted at first\n",
        "print(mylist)\n",
        "mylist.pop(2)  #delete from last\n",
        "print(mylist)\n",
        "print(mylist[2])"
      ],
      "metadata": {
        "colab": {
          "base_uri": "https://localhost:8080/"
        },
        "id": "pccvQOaX23bh",
        "outputId": "860375f2-89a7-42d6-a1f7-f5f4dc265301"
      },
      "execution_count": null,
      "outputs": [
        {
          "output_type": "stream",
          "name": "stdout",
          "text": [
            "['tiger', 20, 30, 'abc', 'prachi']\n",
            "['list', 'tiger', 20, 30, 'abc', 'prachi']\n",
            "['list', 'tiger', 30, 'abc', 'prachi']\n",
            "30\n"
          ]
        }
      ]
    },
    {
      "cell_type": "code",
      "source": [
        "mylist=[1,20,30,40]\n",
        "for i in range(0,len(mylist)):\n",
        "    print(i,mylist[i])"
      ],
      "metadata": {
        "colab": {
          "base_uri": "https://localhost:8080/"
        },
        "id": "YuZEgfwJ6QZd",
        "outputId": "3a08519a-dee5-4ab8-8317-e9d83439f040"
      },
      "execution_count": null,
      "outputs": [
        {
          "output_type": "stream",
          "name": "stdout",
          "text": [
            "0 1\n",
            "1 20\n",
            "2 30\n",
            "3 40\n"
          ]
        }
      ]
    },
    {
      "cell_type": "code",
      "source": [
        "mylist=[1,20,30,40]\n",
        "for i in range(0,len(mylist)):\n",
        "\n",
        "  if(mylist[i]%2==0):\n",
        "    print(i,mylist[i])"
      ],
      "metadata": {
        "colab": {
          "base_uri": "https://localhost:8080/"
        },
        "id": "5yudzqHq7IgA",
        "outputId": "df220425-6d8d-44f5-9490-7f606c1999ac"
      },
      "execution_count": null,
      "outputs": [
        {
          "output_type": "stream",
          "name": "stdout",
          "text": [
            "1 20\n",
            "2 30\n",
            "3 40\n"
          ]
        }
      ]
    },
    {
      "cell_type": "code",
      "source": [
        "mylist=[1,20,30,40]\n",
        "max= mylist[2]\n",
        "for i in mylist:\n",
        "\n",
        "    if(i>max):\n",
        "      max=i\n",
        "    print(max)"
      ],
      "metadata": {
        "colab": {
          "base_uri": "https://localhost:8080/"
        },
        "id": "XkrqWHj07qEi",
        "outputId": "38fb93fe-1a2e-4af2-80f3-be42d165d35e"
      },
      "execution_count": null,
      "outputs": [
        {
          "output_type": "stream",
          "name": "stdout",
          "text": [
            "30\n",
            "30\n",
            "30\n",
            "40\n"
          ]
        }
      ]
    },
    {
      "cell_type": "code",
      "source": [
        "mylist=[1,30,20,40]\n",
        "sum=0\n",
        "mylist=[]\n",
        "\n",
        "for i in range(0,len(mylist)):\n",
        "    sum+=1\n",
        "    mylist.append(sum)\n",
        "    print(sum, i,mylist)"
      ],
      "metadata": {
        "id": "8Y-AFDpY-jeG"
      },
      "execution_count": null,
      "outputs": []
    },
    {
      "cell_type": "code",
      "source": [
        "mylist=[-1,0,2,5,7,11,14]\n",
        "#target=9\n",
        "for i in range(0,7):\n",
        "   print(i,mylist[i])"
      ],
      "metadata": {
        "colab": {
          "base_uri": "https://localhost:8080/"
        },
        "id": "j1dHYGjeBRZE",
        "outputId": "edb17c1d-3e3b-4521-eb94-c49238eeefe2"
      },
      "execution_count": null,
      "outputs": [
        {
          "output_type": "stream",
          "name": "stdout",
          "text": [
            "0 -1\n",
            "1 0\n",
            "2 2\n",
            "3 5\n",
            "4 7\n",
            "5 11\n",
            "6 14\n"
          ]
        }
      ]
    },
    {
      "cell_type": "code",
      "source": [
        "for i in range(1,4):\n",
        "   print(\"---student\",i)\n",
        "   for j in range (1,i+1):\n",
        "    print(\"good morning\",j)"
      ],
      "metadata": {
        "colab": {
          "base_uri": "https://localhost:8080/"
        },
        "id": "l30lUhKeECHV",
        "outputId": "2466c00a-6aa3-4316-fe99-3ffcf370e442"
      },
      "execution_count": null,
      "outputs": [
        {
          "output_type": "stream",
          "name": "stdout",
          "text": [
            "---student 1\n",
            "good morning 1\n",
            "---student 2\n",
            "good morning 1\n",
            "good morning 2\n",
            "---student 3\n",
            "good morning 1\n",
            "good morning 2\n",
            "good morning 3\n"
          ]
        }
      ]
    },
    {
      "cell_type": "code",
      "source": [
        "#mylist = immutable datatype\n",
        "mylist=[-1,0,2,5,7,11,14]\n",
        "\n",
        "for i in range(0,1):\n",
        "   print(i,mylist[i])\n",
        "\n",
        "   for j in range (1,len(mylist)):\n",
        "    print(i,j,mylist[i],mylist[j])\n",
        "    if(mylist[i] + mylist[j]==9):\n",
        "       print(\"sum =>\", mylist[i],mylist[j])"
      ],
      "metadata": {
        "colab": {
          "base_uri": "https://localhost:8080/"
        },
        "id": "gY_3UIkWEHUK",
        "outputId": "0cfabc29-54ae-4bb9-e125-2df59efd800e"
      },
      "execution_count": null,
      "outputs": [
        {
          "output_type": "stream",
          "name": "stdout",
          "text": [
            "0 -1\n",
            "0 1 -1 0\n",
            "0 2 -1 2\n",
            "0 3 -1 5\n",
            "0 4 -1 7\n",
            "0 5 -1 11\n",
            "0 6 -1 14\n"
          ]
        }
      ]
    },
    {
      "cell_type": "code",
      "source": [
        "#wap to login automation of instagram\n",
        "from selenium import webdriver\n",
        "\n",
        "driver.get(\"https://www.instagram.in\")\n",
        "\n",
        "\n",
        "\n"
      ],
      "metadata": {
        "id": "T9BzXgT3GPxd"
      },
      "execution_count": null,
      "outputs": []
    },
    {
      "cell_type": "code",
      "source": [
        "mylist=[50,1,10,40,2,4,12,8,24,7]\n",
        "for i in range(0,len(mylist)):\n",
        "\n",
        "   for j in range(i+1,len(mylist)):\n",
        "     if(mylist[i]+mylist[j]==9):\n",
        "       print(\"sum=\", mylist[i],mylist[j] )"
      ],
      "metadata": {
        "colab": {
          "base_uri": "https://localhost:8080/"
        },
        "id": "Bh0YI0sY3WtW",
        "outputId": "285ea927-afd2-4575-a748-54920350e356"
      },
      "execution_count": null,
      "outputs": [
        {
          "output_type": "stream",
          "name": "stdout",
          "text": [
            "sum= 1 8\n",
            "sum= 2 7\n"
          ]
        }
      ]
    },
    {
      "cell_type": "markdown",
      "source": [
        "tuples #mutable datatype"
      ],
      "metadata": {
        "id": "ZNG9uB417f7W"
      }
    },
    {
      "cell_type": "code",
      "source": [
        "mytuple=(10,20,30,\"abc\",10,50)\n",
        "mytuple.count(10)\n",
        "mytuple.index(\"abc\")"
      ],
      "metadata": {
        "colab": {
          "base_uri": "https://localhost:8080/"
        },
        "id": "j6khPyEa4x64",
        "outputId": "49f458d0-183c-49a1-c269-9d647afdd1bf"
      },
      "execution_count": null,
      "outputs": [
        {
          "output_type": "execute_result",
          "data": {
            "text/plain": [
              "3"
            ]
          },
          "metadata": {},
          "execution_count": 5
        }
      ]
    },
    {
      "cell_type": "markdown",
      "source": [
        "patterns"
      ],
      "metadata": {
        "id": "OGEHERhz8XB_"
      }
    },
    {
      "cell_type": "code",
      "source": [
        "for i in range(1,4):\n",
        "  print(\"student\",i)\n",
        "\n",
        "  for j in range(1,4):\n",
        "    print(\"student\" , i,end=\" \")\n",
        "\n",
        "  print(\"----- tea break------\")"
      ],
      "metadata": {
        "colab": {
          "base_uri": "https://localhost:8080/"
        },
        "id": "K3mu12Pk8EeQ",
        "outputId": "2583de69-b447-4458-f090-a401a57e42e3"
      },
      "execution_count": null,
      "outputs": [
        {
          "output_type": "stream",
          "name": "stdout",
          "text": [
            "student 1\n",
            "student 1 student 1 student 1 ----- tea break------\n",
            "student 2\n",
            "student 2 student 2 student 2 ----- tea break------\n",
            "student 3\n",
            "student 3 student 3 student 3 ----- tea break------\n"
          ]
        }
      ]
    },
    {
      "cell_type": "code",
      "source": [
        "for i in range(1,4):\n",
        " print(\"student\",i)\n",
        "\n",
        " for j in range(1,i+1):\n",
        "  print(\"subject\",j, end=\"\")"
      ],
      "metadata": {
        "colab": {
          "base_uri": "https://localhost:8080/"
        },
        "id": "O9xKsBpW-h3Z",
        "outputId": "6eaf771b-ec68-4a36-be09-cdde09f87cc8"
      },
      "execution_count": null,
      "outputs": [
        {
          "output_type": "stream",
          "name": "stdout",
          "text": [
            "student 1\n",
            "subject 1student 2\n",
            "subject 1subject 2student 3\n",
            "subject 1subject 2subject 3"
          ]
        }
      ]
    },
    {
      "cell_type": "code",
      "source": [
        "for i in range(1,4):\n",
        " print(\"student\",i)\n",
        "\n",
        " for j in range(1,5-i):\n",
        "  print(\"subject\",j)"
      ],
      "metadata": {
        "colab": {
          "base_uri": "https://localhost:8080/"
        },
        "id": "s2e23mH-ADJu",
        "outputId": "04588fc6-5731-4300-dc89-c4d024a4968b"
      },
      "execution_count": null,
      "outputs": [
        {
          "output_type": "stream",
          "name": "stdout",
          "text": [
            "student 1\n",
            "subject 1\n",
            "subject 2\n",
            "subject 3\n",
            "student 2\n",
            "subject 1\n",
            "subject 2\n",
            "student 3\n",
            "subject 1\n"
          ]
        }
      ]
    },
    {
      "cell_type": "code",
      "source": [
        "for i in range(1,4):\n",
        "\n",
        " for j in range(1,i+1):\n",
        "  print(\"*\", end=\" \")\n",
        "print(\"\")"
      ],
      "metadata": {
        "colab": {
          "base_uri": "https://localhost:8080/"
        },
        "id": "z-z1-SPVA4Y7",
        "outputId": "487baa82-8f8f-467e-dbb5-db4ea0418b9c"
      },
      "execution_count": null,
      "outputs": [
        {
          "output_type": "stream",
          "name": "stdout",
          "text": [
            "* * * * * * \n"
          ]
        }
      ]
    },
    {
      "cell_type": "code",
      "source": [
        "for i in range(1,4):\n",
        " print(\"1\",i)\n",
        " for j in range(1,4-i):\n",
        "  print(\"2\",j)\n",
        "print(\"\")"
      ],
      "metadata": {
        "colab": {
          "base_uri": "https://localhost:8080/"
        },
        "id": "WNU6DPeiBwqm",
        "outputId": "91511a6f-78b0-4f89-febb-cd90e02e0663"
      },
      "execution_count": null,
      "outputs": [
        {
          "output_type": "stream",
          "name": "stdout",
          "text": [
            "1 1\n",
            "2 1\n",
            "2 2\n",
            "1 2\n",
            "2 1\n",
            "1 3\n",
            "\n"
          ]
        }
      ]
    },
    {
      "cell_type": "code",
      "source": [
        "for i in range(1,4):\n",
        "\n",
        " for j in range(1,2):\n",
        "   print(\"ABC\")"
      ],
      "metadata": {
        "colab": {
          "base_uri": "https://localhost:8080/"
        },
        "id": "Bebo9bRhCOtX",
        "outputId": "bb3823ea-5d97-483b-af4c-2c79dd503ad0"
      },
      "execution_count": null,
      "outputs": [
        {
          "output_type": "stream",
          "name": "stdout",
          "text": [
            "ABC\n",
            "ABC\n",
            "ABC\n"
          ]
        }
      ]
    },
    {
      "cell_type": "code",
      "source": [
        "for i in range(1,3):\n",
        "\n",
        " for j in range(1,3):\n",
        "   print(\"1234\")"
      ],
      "metadata": {
        "colab": {
          "base_uri": "https://localhost:8080/"
        },
        "id": "3taq6oELCpgB",
        "outputId": "795001af-4c20-40df-ea3d-ff195c5dbbaf"
      },
      "execution_count": null,
      "outputs": [
        {
          "output_type": "stream",
          "name": "stdout",
          "text": [
            "1234\n",
            "1234\n",
            "1234\n",
            "1234\n"
          ]
        }
      ]
    },
    {
      "cell_type": "code",
      "source": [
        "for i in range(1,5):\n",
        "\n",
        " for j in range(4,8):\n",
        "   print(j,end=\" \")\n",
        " print(\" \")"
      ],
      "metadata": {
        "colab": {
          "base_uri": "https://localhost:8080/"
        },
        "id": "yLzngJswC4h3",
        "outputId": "4553a56f-94ab-4fff-8068-c63d7c080c94"
      },
      "execution_count": null,
      "outputs": [
        {
          "output_type": "stream",
          "name": "stdout",
          "text": [
            "4 5 6 7  \n",
            "4 5 6 7  \n",
            "4 5 6 7  \n",
            "4 5 6 7  \n"
          ]
        }
      ]
    },
    {
      "cell_type": "code",
      "source": [
        "for i in range(1,4):\n",
        "\n",
        " for j in range(1,3+i):\n",
        "   print(1,j,end=\"  \")\n",
        " print(\"  \")"
      ],
      "metadata": {
        "colab": {
          "base_uri": "https://localhost:8080/"
        },
        "id": "60QGRrqrEAdN",
        "outputId": "1215bc4d-5b6e-4781-85ae-b48e6e50b1e1"
      },
      "execution_count": null,
      "outputs": [
        {
          "output_type": "stream",
          "name": "stdout",
          "text": [
            "1 1  1 2  1 3    \n",
            "1 1  1 2  1 3  1 4    \n",
            "1 1  1 2  1 3  1 4  1 5    \n"
          ]
        }
      ]
    },
    {
      "cell_type": "code",
      "source": [
        "for i in range(1,5):\n",
        "\n",
        " for j in range(1,i+1):\n",
        "  print(\"*\",end=\"\")\n",
        " print(\" \")"
      ],
      "metadata": {
        "colab": {
          "base_uri": "https://localhost:8080/"
        },
        "id": "6V_DgXMjEinR",
        "outputId": "07c2ed7c-d837-4d89-e24e-bea383f0dadb"
      },
      "execution_count": null,
      "outputs": [
        {
          "output_type": "stream",
          "name": "stdout",
          "text": [
            "* \n",
            "** \n",
            "*** \n",
            "**** \n"
          ]
        }
      ]
    },
    {
      "cell_type": "code",
      "source": [
        "for i in range(1,5):\n",
        "\n",
        " for j in range(1,i+1):\n",
        "  print(\"\",j,end=\"\")\n",
        " print(\" \")"
      ],
      "metadata": {
        "colab": {
          "base_uri": "https://localhost:8080/"
        },
        "id": "TceBZ-dPFp5O",
        "outputId": "b8c3fa22-db34-4165-d08d-6b813015658e"
      },
      "execution_count": null,
      "outputs": [
        {
          "output_type": "stream",
          "name": "stdout",
          "text": [
            " 1 \n",
            " 1 2 \n",
            " 1 2 3 \n",
            " 1 2 3 4 \n"
          ]
        }
      ]
    },
    {
      "cell_type": "code",
      "source": [
        "for i in range(4,8):\n",
        "\n",
        " for j in range(4,i+1):\n",
        "  print(\"\",j,end=\"\")\n",
        " print(\" \")"
      ],
      "metadata": {
        "colab": {
          "base_uri": "https://localhost:8080/"
        },
        "id": "KBdEZBm9F25w",
        "outputId": "c50119c5-bb38-48ad-e21c-3694162fc79a"
      },
      "execution_count": null,
      "outputs": [
        {
          "output_type": "stream",
          "name": "stdout",
          "text": [
            " 4 \n",
            " 4 5 \n",
            " 4 5 6 \n",
            " 4 5 6 7 \n"
          ]
        }
      ]
    },
    {
      "cell_type": "code",
      "source": [
        "x=1\n",
        "for i in range(1,5):\n",
        "\n",
        " for j in range(1,i+1):\n",
        "  print( x,end=\" \")\n",
        "  x+=1\n",
        " print(\" \")"
      ],
      "metadata": {
        "colab": {
          "base_uri": "https://localhost:8080/"
        },
        "id": "LKSlytRiF8RU",
        "outputId": "369e51d3-118b-4ca1-d416-3e4c4499395a"
      },
      "execution_count": null,
      "outputs": [
        {
          "output_type": "stream",
          "name": "stdout",
          "text": [
            "1  \n",
            "2 3  \n",
            "4 5 6  \n",
            "7 8 9 10  \n"
          ]
        }
      ]
    },
    {
      "cell_type": "code",
      "source": [
        "\n",
        "for i in range(1,5):\n",
        " for j in range(1,5-i):\n",
        "  print( \"-\",end=\" \")\n",
        " for j in range(1,i+1):\n",
        "   print( \"*\",end=\" \")\n",
        " print(\" \")"
      ],
      "metadata": {
        "colab": {
          "base_uri": "https://localhost:8080/"
        },
        "id": "0m6lg1CVGYtN",
        "outputId": "e9906109-a3ad-4945-b014-e6e58468159c"
      },
      "execution_count": null,
      "outputs": [
        {
          "output_type": "stream",
          "name": "stdout",
          "text": [
            "- - - *  \n",
            "- - * *  \n",
            "- * * *  \n",
            "* * * *  \n"
          ]
        }
      ]
    },
    {
      "cell_type": "code",
      "source": [
        "for i in range(1,6):\n",
        " for j in range(1,i):\n",
        "  print( \"-\",end=\" \")\n",
        " for j in range(1,7-i):\n",
        "   print( \"*\",end=\"  \")\n",
        " print(\" \")"
      ],
      "metadata": {
        "colab": {
          "base_uri": "https://localhost:8080/"
        },
        "id": "1iHdquNMIZd9",
        "outputId": "a51c3168-6a01-4ee1-952f-4b836416541d"
      },
      "execution_count": null,
      "outputs": [
        {
          "output_type": "stream",
          "name": "stdout",
          "text": [
            "*  *  *  *  *   \n",
            "- *  *  *  *   \n",
            "- - *  *  *   \n",
            "- - - *  *   \n",
            "- - - - *   \n"
          ]
        }
      ]
    },
    {
      "cell_type": "code",
      "source": [
        "for i in range(1,5):\n",
        "\n",
        "\n",
        "  for j in range(1,i+1):\n",
        "    if((i+j)%2==0):\n",
        "      print(\"1\",end=\" \")\n",
        "    else:\n",
        "      print(\"0\",end=\" \")\n",
        "\n",
        "  print(\" \")"
      ],
      "metadata": {
        "colab": {
          "base_uri": "https://localhost:8080/"
        },
        "id": "2tKQdIQlJ-Ec",
        "outputId": "a17d158a-e5ba-4e08-e484-6f44ac7ea8f6"
      },
      "execution_count": null,
      "outputs": [
        {
          "output_type": "stream",
          "name": "stdout",
          "text": [
            "1  \n",
            "0 1  \n",
            "1 0 1  \n",
            "0 1 0 1  \n"
          ]
        }
      ]
    },
    {
      "cell_type": "code",
      "source": [],
      "metadata": {
        "id": "Jla1D8ADLpCR"
      },
      "execution_count": null,
      "outputs": []
    }
  ]
}