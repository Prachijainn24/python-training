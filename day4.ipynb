{
  "nbformat": 4,
  "nbformat_minor": 0,
  "metadata": {
    "colab": {
      "provenance": [],
      "authorship_tag": "ABX9TyNVff5EDyH2muJKkRKyxYC6",
      "include_colab_link": true
    },
    "kernelspec": {
      "name": "python3",
      "display_name": "Python 3"
    },
    "language_info": {
      "name": "python"
    }
  },
  "cells": [
    {
      "cell_type": "markdown",
      "metadata": {
        "id": "view-in-github",
        "colab_type": "text"
      },
      "source": [
        "<a href=\"https://colab.research.google.com/github/Prachijainn24/python-training/blob/main/day4.ipynb\" target=\"_parent\"><img src=\"https://colab.research.google.com/assets/colab-badge.svg\" alt=\"Open In Colab\"/></a>"
      ]
    },
    {
      "cell_type": "code",
      "execution_count": null,
      "metadata": {
        "colab": {
          "base_uri": "https://localhost:8080/"
        },
        "id": "v2sKK1dta-kz",
        "outputId": "7457590d-250a-4ca2-a315-631928c6ab82"
      },
      "outputs": [
        {
          "output_type": "stream",
          "name": "stdout",
          "text": [
            "* * * *  \n",
            "* * *  \n",
            "* *  \n",
            "*  \n"
          ]
        }
      ],
      "source": [
        "for i in range(1,5):\n",
        "\n",
        " for j in range(1,6-i):\n",
        "  print(\"*\",end=\" \")\n",
        " print(\" \")"
      ]
    },
    {
      "cell_type": "code",
      "source": [
        "for i in range(1,4):\n",
        "\n",
        " for j in range(1,5):\n",
        "  print(j,end=\" \")\n",
        " print(\" \")"
      ],
      "metadata": {
        "colab": {
          "base_uri": "https://localhost:8080/"
        },
        "id": "DclPVyRpcFyS",
        "outputId": "0fbdc5d1-0c4f-4f06-953d-dd76a9408a13"
      },
      "execution_count": null,
      "outputs": [
        {
          "output_type": "stream",
          "name": "stdout",
          "text": [
            "1 2 3 4  \n",
            "1 2 3 4  \n",
            "1 2 3 4  \n"
          ]
        }
      ]
    },
    {
      "cell_type": "code",
      "source": [
        "for i in range(1,4):\n",
        "\n",
        " for j in range(1,5):\n",
        "  print(i,end=\" \")\n",
        " print(\" \")"
      ],
      "metadata": {
        "colab": {
          "base_uri": "https://localhost:8080/"
        },
        "id": "YSx45mgPc-yV",
        "outputId": "34480f52-f7a2-4ace-c17f-a18243ac4446"
      },
      "execution_count": null,
      "outputs": [
        {
          "output_type": "stream",
          "name": "stdout",
          "text": [
            "1 1 1 1  \n",
            "2 2 2 2  \n",
            "3 3 3 3  \n"
          ]
        }
      ]
    },
    {
      "cell_type": "code",
      "source": [
        "for i in range(4,9,2):\n",
        "\n",
        " for j in range(1,5):\n",
        "  print(i,end=\" \")\n",
        " print(\" \")"
      ],
      "metadata": {
        "colab": {
          "base_uri": "https://localhost:8080/"
        },
        "id": "XXrIPwoudHOp",
        "outputId": "43f4c426-8fce-4508-b764-1ef64025e6bb"
      },
      "execution_count": null,
      "outputs": [
        {
          "output_type": "stream",
          "name": "stdout",
          "text": [
            "4 4 4 4  \n",
            "6 6 6 6  \n",
            "8 8 8 8  \n"
          ]
        }
      ]
    },
    {
      "cell_type": "code",
      "source": [
        "for i in range(1,5):\n",
        "  for j in range(4,8):\n",
        "    print(j,end=\"\")\n",
        "  print(\" \")"
      ],
      "metadata": {
        "colab": {
          "base_uri": "https://localhost:8080/"
        },
        "id": "iREzbJNogNnv",
        "outputId": "1c1a6f94-f630-4e92-f742-9131ae89bd35"
      },
      "execution_count": null,
      "outputs": [
        {
          "output_type": "stream",
          "name": "stdout",
          "text": [
            "4567 \n",
            "4567 \n",
            "4567 \n",
            "4567 \n"
          ]
        }
      ]
    },
    {
      "cell_type": "code",
      "source": [
        "num=1\n",
        "for i in range(1,4):\n",
        "  for j in range(1,5):\n",
        "    print(num,end=\" \")\n",
        "    num+=1\n",
        "  print(\" \")"
      ],
      "metadata": {
        "colab": {
          "base_uri": "https://localhost:8080/"
        },
        "id": "PGIV2-Wcg6_t",
        "outputId": "846fc5c7-e6fb-46bb-bfc7-08189a772462"
      },
      "execution_count": null,
      "outputs": [
        {
          "output_type": "stream",
          "name": "stdout",
          "text": [
            "1 2 3 4  \n",
            "5 6 7 8  \n",
            "9 10 11 12  \n"
          ]
        }
      ]
    },
    {
      "cell_type": "code",
      "source": [
        "for i in range(1,4):  # 3 rows\n",
        "    for ch in ['A', 'b', 'c']:  # characters to print\n",
        "        print(ch, end=\"\")\n",
        "    print()"
      ],
      "metadata": {
        "colab": {
          "base_uri": "https://localhost:8080/"
        },
        "id": "XqLNVIWXQA6H",
        "outputId": "eab991a6-72a6-46a5-be56-c90f0a457d59"
      },
      "execution_count": null,
      "outputs": [
        {
          "output_type": "stream",
          "name": "stdout",
          "text": [
            "Abc\n",
            "Abc\n",
            "Abc\n"
          ]
        }
      ]
    },
    {
      "cell_type": "code",
      "source": [
        "for i in range(1,5):\n",
        "  for j in range(1,i+1):\n",
        "    print(\"*\",end=\"\")\n",
        "  print(\" \")"
      ],
      "metadata": {
        "colab": {
          "base_uri": "https://localhost:8080/"
        },
        "id": "oKpjJaUSRRSY",
        "outputId": "61175e8e-e0cc-4ec2-f08f-adf5ac8c7bbf"
      },
      "execution_count": null,
      "outputs": [
        {
          "output_type": "stream",
          "name": "stdout",
          "text": [
            "* \n",
            "** \n",
            "*** \n",
            "**** \n"
          ]
        }
      ]
    },
    {
      "cell_type": "code",
      "source": [
        "for i in range(1,5):\n",
        "  for j in range(1,i+1):\n",
        "    print(j,end=\"\")\n",
        "  print(\" \")"
      ],
      "metadata": {
        "colab": {
          "base_uri": "https://localhost:8080/"
        },
        "id": "XWBCIqM4TJcA",
        "outputId": "4af8e596-1bbe-4dd2-c967-d16d6ded154e"
      },
      "execution_count": null,
      "outputs": [
        {
          "output_type": "stream",
          "name": "stdout",
          "text": [
            "1 \n",
            "12 \n",
            "123 \n",
            "1234 \n"
          ]
        }
      ]
    },
    {
      "cell_type": "code",
      "source": [
        "for i in range(1,5):\n",
        "  for j in range(4,4+i):\n",
        "    print(j,end=\"\")\n",
        "  print(\" \")"
      ],
      "metadata": {
        "colab": {
          "base_uri": "https://localhost:8080/"
        },
        "id": "ZWTZWqNATShP",
        "outputId": "a49f98df-1050-4255-e462-e63a4edbaec0"
      },
      "execution_count": null,
      "outputs": [
        {
          "output_type": "stream",
          "name": "stdout",
          "text": [
            "4 \n",
            "45 \n",
            "456 \n",
            "4567 \n"
          ]
        }
      ]
    },
    {
      "cell_type": "code",
      "source": [
        "for i in range(1,5):\n",
        "  for j in range(65,65+i):\n",
        "    print(j,end=\" \")\n",
        "  print(\" \")"
      ],
      "metadata": {
        "colab": {
          "base_uri": "https://localhost:8080/"
        },
        "id": "IUOzDjbSTcrx",
        "outputId": "a959975b-e595-4a24-de84-a74226f12303"
      },
      "execution_count": null,
      "outputs": [
        {
          "output_type": "stream",
          "name": "stdout",
          "text": [
            "65  \n",
            "65 66  \n",
            "65 66 67  \n",
            "65 66 67 68  \n"
          ]
        }
      ]
    },
    {
      "cell_type": "code",
      "source": [
        "num = 65  # starting number\n",
        "\n",
        "for i in range(1, 4):  # rows 1 to 3\n",
        "    for j in range(i):  # increasing columns\n",
        "        print(num, end=\" \")\n",
        "        num += 1\n",
        "    print()"
      ],
      "metadata": {
        "colab": {
          "base_uri": "https://localhost:8080/"
        },
        "id": "B6AYEp7LT9oK",
        "outputId": "439ba711-bef2-4273-f372-a1a6ec6ea73b"
      },
      "execution_count": null,
      "outputs": [
        {
          "output_type": "stream",
          "name": "stdout",
          "text": [
            "65 \n",
            "66 67 \n",
            "68 69 70 \n"
          ]
        }
      ]
    },
    {
      "cell_type": "code",
      "source": [
        "num = 1  # starting number\n",
        "\n",
        "for i in range(1, 5):  # rows 1 to 3\n",
        "    for j in range(1,i+1):  # increasing columns\n",
        "        print(num, end=\" \")\n",
        "        num += 1\n",
        "    print()"
      ],
      "metadata": {
        "colab": {
          "base_uri": "https://localhost:8080/"
        },
        "id": "J9kBD59VUlC_",
        "outputId": "1bc9f2ea-ebd1-41fa-a0d5-5969658bbc74"
      },
      "execution_count": null,
      "outputs": [
        {
          "output_type": "stream",
          "name": "stdout",
          "text": [
            "1 \n",
            "2 3 \n",
            "4 5 6 \n",
            "7 8 9 10 \n"
          ]
        }
      ]
    },
    {
      "cell_type": "code",
      "source": [
        "for i in range(1, 5):  # rows 1 to 4\n",
        "    for ch in ['A', 'b', 'c', 'E', 'F', 'G', 'H', 'I', 'J'](i+1):  # characters to print\n",
        "        print(ch, end=\"\")\n",
        "    print()  # move to the next line"
      ],
      "metadata": {
        "colab": {
          "base_uri": "https://localhost:8080/"
        },
        "id": "tAmofBjQU0du",
        "outputId": "c96ec029-c58c-4eed-ebb6-f100d0641653"
      },
      "execution_count": null,
      "outputs": [
        {
          "output_type": "stream",
          "name": "stdout",
          "text": [
            "AbcEFGHIJ\n",
            "AbcEFGHIJ\n",
            "AbcEFGHIJ\n",
            "AbcEFGHIJ\n"
          ]
        }
      ]
    },
    {
      "cell_type": "code",
      "source": [
        "for i in range(1, 5):  # rows 1 to 4\n",
        "  for j in range(1,5-i):\n",
        "    print(\"-\",end=\"\")\n",
        "\n",
        "    for j in range(1,i+1):\n",
        "     print(\"*\",end=\" \")\n",
        "  print()"
      ],
      "metadata": {
        "colab": {
          "base_uri": "https://localhost:8080/"
        },
        "id": "gFxo6NdzVZ2_",
        "outputId": "c0502b9a-8766-4e77-9418-1d1abbe413be"
      },
      "execution_count": null,
      "outputs": [
        {
          "output_type": "stream",
          "name": "stdout",
          "text": [
            "-* -* -* \n",
            "-* * -* * \n",
            "-* * * \n",
            "\n"
          ]
        }
      ]
    },
    {
      "cell_type": "code",
      "source": [],
      "metadata": {
        "id": "K9ZFlk8V1KJE"
      },
      "execution_count": null,
      "outputs": []
    }
  ]
}