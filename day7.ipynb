{
  "nbformat": 4,
  "nbformat_minor": 0,
  "metadata": {
    "colab": {
      "provenance": [],
      "authorship_tag": "ABX9TyPFdg0IwocJ/sHJ1zh0urft",
      "include_colab_link": true
    },
    "kernelspec": {
      "name": "python3",
      "display_name": "Python 3"
    },
    "language_info": {
      "name": "python"
    }
  },
  "cells": [
    {
      "cell_type": "markdown",
      "metadata": {
        "id": "view-in-github",
        "colab_type": "text"
      },
      "source": [
        "<a href=\"https://colab.research.google.com/github/Prachijainn24/python-training/blob/main/day7.ipynb\" target=\"_parent\"><img src=\"https://colab.research.google.com/assets/colab-badge.svg\" alt=\"Open In Colab\"/></a>"
      ]
    },
    {
      "cell_type": "markdown",
      "source": [
        "OBJECT ORIENTED PROGRAMMING SYSTEM"
      ],
      "metadata": {
        "id": "ELrS5XnCdsMz"
      }
    },
    {
      "cell_type": "code",
      "execution_count": null,
      "metadata": {
        "id": "tcNl01KcW1FP"
      },
      "outputs": [],
      "source": [
        "class HouseDesign:\n",
        "  color=\"yellow\""
      ]
    },
    {
      "cell_type": "code",
      "source": [
        "#object =class()\n",
        "h1=HouseDesign()\n",
        "print(h1.color)"
      ],
      "metadata": {
        "colab": {
          "base_uri": "https://localhost:8080/"
        },
        "id": "hWBjOcc9ZQKy",
        "outputId": "47ef8d16-e8b7-4e14-a535-800c8e3e3c88"
      },
      "execution_count": null,
      "outputs": [
        {
          "output_type": "stream",
          "name": "stdout",
          "text": [
            "yellow\n"
          ]
        }
      ]
    },
    {
      "cell_type": "code",
      "source": [
        "regex=HouseDesign()\n",
        "print(regex.color)"
      ],
      "metadata": {
        "colab": {
          "base_uri": "https://localhost:8080/"
        },
        "id": "Zh6TbA7xZw68",
        "outputId": "bdb2937b-b785-436f-a505-d618ab0d05d2"
      },
      "execution_count": null,
      "outputs": [
        {
          "output_type": "stream",
          "name": "stdout",
          "text": [
            "yellow\n"
          ]
        }
      ]
    },
    {
      "cell_type": "code",
      "source": [
        "h2=HouseDesign()\n",
        "h2.color=\"white\"\n",
        "print(h2.color)"
      ],
      "metadata": {
        "colab": {
          "base_uri": "https://localhost:8080/"
        },
        "id": "Nvh2aD6_aD1_",
        "outputId": "8d2c1a84-fce3-433c-c732-8a63391180da"
      },
      "execution_count": null,
      "outputs": [
        {
          "output_type": "stream",
          "name": "stdout",
          "text": [
            "white\n"
          ]
        }
      ]
    },
    {
      "cell_type": "code",
      "source": [
        "class HouseDesign:\n",
        "  def __init__(self):\n",
        "    print(\"mistri sahab aa gye\",self)\n",
        "  color=\"yellow\""
      ],
      "metadata": {
        "id": "NMvlDoJtbcMT"
      },
      "execution_count": null,
      "outputs": []
    },
    {
      "cell_type": "code",
      "source": [
        "h1=HouseDesign()\n",
        "print(h1)"
      ],
      "metadata": {
        "colab": {
          "base_uri": "https://localhost:8080/"
        },
        "id": "n9QTREeibqDw",
        "outputId": "a0c99995-b4b3-48af-8ec5-29728b40d007"
      },
      "execution_count": null,
      "outputs": [
        {
          "output_type": "stream",
          "name": "stdout",
          "text": [
            "mistri sahab aa gye\n",
            "<__main__.HouseDesign object at 0x7b74adc88390>\n"
          ]
        }
      ]
    },
    {
      "cell_type": "code",
      "source": [
        "class HouseDesign:\n",
        "  def __init__(self,x):\n",
        "    self.color=x          #h1.color=green\n",
        "\n",
        "   #first object\n",
        "h1=HouseDesign(\"green\")\n",
        "print(\"h1:\",h1.color)\n",
        "\n",
        "h2=HouseDesign(\"pink\")\n",
        "print(\"h1:\",h2.color)\n"
      ],
      "metadata": {
        "colab": {
          "base_uri": "https://localhost:8080/"
        },
        "id": "XTJArYFtcZtw",
        "outputId": "1dc026ea-a362-4256-ecdc-93f047deefe7"
      },
      "execution_count": null,
      "outputs": [
        {
          "output_type": "stream",
          "name": "stdout",
          "text": [
            "h1: green\n",
            "h1: pink\n"
          ]
        }
      ]
    },
    {
      "cell_type": "markdown",
      "source": [
        "INHERITANCE"
      ],
      "metadata": {
        "id": "7TNtn9OegYT4"
      }
    },
    {
      "cell_type": "code",
      "source": [
        "class Parent:\n",
        "  amount=50000\n",
        "\n",
        "class child(Parent):\n",
        "    salary=10000\n",
        "\n",
        "c1=child()\n",
        "print(c1.amount)\n"
      ],
      "metadata": {
        "colab": {
          "base_uri": "https://localhost:8080/"
        },
        "id": "wBbL3FVBdQis",
        "outputId": "2c633bbd-6772-416a-d536-2ed573d5004a"
      },
      "execution_count": null,
      "outputs": [
        {
          "output_type": "stream",
          "name": "stdout",
          "text": [
            "50000\n"
          ]
        }
      ]
    },
    {
      "cell_type": "code",
      "source": [
        "#class=driver\n",
        "#driver name,email, id inside constructor"
      ],
      "metadata": {
        "id": "no9LDlMRhEzq"
      },
      "execution_count": null,
      "outputs": []
    },
    {
      "cell_type": "code",
      "source": [
        "class driver:\n",
        "  def __init__(self,x,y,z):\n",
        "    self.name=x\n",
        "    self.email=y\n",
        "    self.id=z"
      ],
      "metadata": {
        "id": "J8ehsxEKhVOB"
      },
      "execution_count": null,
      "outputs": []
    },
    {
      "cell_type": "code",
      "source": [
        "d1=driver(10,\"sahil\",\"sahil@gmail.com\")\n",
        "print(d1.name)\n",
        "print(d1.email)\n",
        "print(d1.id)"
      ],
      "metadata": {
        "colab": {
          "base_uri": "https://localhost:8080/"
        },
        "id": "YyIYwdPQjpNk",
        "outputId": "1416f1f1-380c-4029-efa1-e801913f28a4"
      },
      "execution_count": null,
      "outputs": [
        {
          "output_type": "stream",
          "name": "stdout",
          "text": [
            "10\n",
            "sahil\n",
            "sahil@gmail.com\n"
          ]
        }
      ]
    },
    {
      "cell_type": "code",
      "source": [
        "class customer:\n",
        "  def __init__(self,x,y,z,p):\n",
        "    self.name=x\n",
        "    self.email=y\n",
        "    self.id=z\n",
        "    self.wallet=p"
      ],
      "metadata": {
        "id": "D4wQJoMPj9rN"
      },
      "execution_count": null,
      "outputs": []
    },
    {
      "cell_type": "code",
      "source": [
        "c1=customer(10,\"sahil\",\"sahil@gmail.com\",50000)\n",
        "print(c1.name)\n",
        "print(c1.email)\n",
        "print(c1.id)\n",
        "print(c1.wallet)"
      ],
      "metadata": {
        "colab": {
          "base_uri": "https://localhost:8080/"
        },
        "id": "xaaxQ4SHkIRM",
        "outputId": "9a148ee2-d132-40e0-8cc8-595df28842e7"
      },
      "execution_count": null,
      "outputs": [
        {
          "output_type": "stream",
          "name": "stdout",
          "text": [
            "10\n",
            "sahil\n",
            "sahil@gmail.com\n",
            "50000\n"
          ]
        }
      ]
    },
    {
      "cell_type": "code",
      "source": [
        "class customer(driver):\n",
        "  def __init__(self,x,y,z.p):\n",
        "    super().__init__(x,y,z,p)"
      ],
      "metadata": {
        "id": "Lvg6eMMYkbGR"
      },
      "execution_count": null,
      "outputs": []
    },
    {
      "cell_type": "code",
      "source": [
        "c1=customer(12,\"prachi\",\"prachi@gmail.com\",5000)\n",
        "print(c1.name)"
      ],
      "metadata": {
        "colab": {
          "base_uri": "https://localhost:8080/"
        },
        "id": "mkT8lAuolIIY",
        "outputId": "784d9aab-9e12-438c-9162-e3a397d50fa3"
      },
      "execution_count": null,
      "outputs": [
        {
          "output_type": "stream",
          "name": "stdout",
          "text": [
            "12\n"
          ]
        }
      ]
    },
    {
      "cell_type": "code",
      "source": [
        "class employee:\n",
        "  def __init__(self,p,q,r,a):\n",
        "    self.name=p\n",
        "    self.email=q\n",
        "    self.id=r\n",
        "    self.annualsalary=a\n",
        "    def emp():\n",
        "      name=\"prachi\"\n",
        "      email=\"prachi@gmail.com\"\n",
        "      id=12\n",
        "      annualsalary=1500000"
      ],
      "metadata": {
        "id": "CxG6-6EVmoVg"
      },
      "execution_count": null,
      "outputs": []
    },
    {
      "cell_type": "code",
      "source": [
        "class employee:\n",
        "    def __init__(self, p, q, r, a):\n",
        "        self.p = p  # e.g., name\n",
        "        self.q = q  # e.g., email\n",
        "        self.r = r  # e.g., employee ID or experience\n",
        "        self.a = a  # e.g., salary\n"
      ],
      "metadata": {
        "id": "B0yjMPPSnRB8"
      },
      "execution_count": 3,
      "outputs": []
    },
    {
      "cell_type": "code",
      "source": [
        "class Employee:\n",
        "    def __init__(self, name, email, emp_id, annual_salary):\n",
        "        self.name = name\n",
        "        self.email = email\n",
        "        self.emp_id = emp_id\n",
        "        self.annual_salary = annual_salary\n",
        "\n",
        "    def get_name(self):\n",
        "        return self.name\n",
        "\n",
        "    def get_email(self):\n",
        "        return self.email\n",
        "\n",
        "    def get_id(self):\n",
        "        return self.emp_id\n",
        "\n",
        "    def get_annual_salary(self):\n",
        "        return self.annual_salary\n",
        "\n",
        "e1 = Employee(\"prachi\", \"prachi@gmail.com\", 12, 150000)\n",
        "e2 = Employee(\"aanchal\", \"anchal@gmail.com\", 10, 100000)\n",
        "e3 = Employee(\"rahil\", \"rahil@gmail.com\", 14, 100000)\n",
        "\n",
        "\n",
        "# Accessing attributes using methods\n",
        "print(e1.get_name())\n",
        "print(e1.get_email())\n",
        "print(e1.get_id())\n",
        "print(e1.get_annual_salary())\n",
        "\n",
        "print(e2.get_name())\n",
        "print(e2.get_email())\n",
        "print(e2.get_id())\n",
        "print(e2.get_annual_salary())\n",
        "\n",
        "print(e3.get_name())\n",
        "print(e3.get_email())\n",
        "print(e3.get_id())\n",
        "print(e3.get_annual_salary())"
      ],
      "metadata": {
        "colab": {
          "base_uri": "https://localhost:8080/"
        },
        "id": "cdody6Lgo0VH",
        "outputId": "622ef151-14a9-467d-85c3-4f7dff732476"
      },
      "execution_count": null,
      "outputs": [
        {
          "output_type": "stream",
          "name": "stdout",
          "text": [
            "prachi\n",
            "prachi@gmail.com\n",
            "12\n",
            "150000\n",
            "aanchal\n",
            "anchal@gmail.com\n",
            "10\n",
            "100000\n",
            "rahil\n",
            "rahil@gmail.com\n",
            "14\n",
            "100000\n"
          ]
        }
      ]
    },
    {
      "cell_type": "code",
      "source": [
        "class Employee:\n",
        "    def __init__(self, name, email, emp_id, annual_salary):\n",
        "        self.name = name\n",
        "        self.email = email\n",
        "        self.emp_id = emp_id\n",
        "        self.annual_salary = annual_salary\n",
        "    def info(self):\n",
        "        print(self.name, self.annual_salary // 12, self.email.split(\"@\")[-1])"
      ],
      "metadata": {
        "id": "8qEFZmy_qpVO"
      },
      "execution_count": 12,
      "outputs": []
    },
    {
      "cell_type": "code",
      "source": [
        "e1 = Employee(\"rahil\", \"rahil@gmail.com\", 14, 100000)\n",
        "e1.info()"
      ],
      "metadata": {
        "colab": {
          "base_uri": "https://localhost:8080/"
        },
        "id": "2vxrkMgbqpSj",
        "outputId": "1e31074f-c28b-4101-85cb-a1d99d47edb3"
      },
      "execution_count": 14,
      "outputs": [
        {
          "output_type": "stream",
          "name": "stdout",
          "text": [
            "rahil 8333 gmail.com\n"
          ]
        }
      ]
    }
  ]
}